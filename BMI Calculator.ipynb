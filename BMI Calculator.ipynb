{
 "cells": [
  {
   "cell_type": "markdown",
   "id": "b1537ca6",
   "metadata": {},
   "source": [
    "# BMI Calculator"
   ]
  },
  {
   "cell_type": "code",
   "execution_count": 13,
   "id": "6f075ad5",
   "metadata": {},
   "outputs": [
    {
     "name": "stdout",
     "output_type": "stream",
     "text": [
      "what is your namesa\n",
      "Enter your weight in pounds: -2\n",
      "Enter your height in inches: -2\n",
      "-351.5\n",
      "Enter valid input\n"
     ]
    }
   ],
   "source": [
    "name = input(\"what is your name\")\n",
    "weight = int(input(\"Enter your weight in pounds: \"))\n",
    "\n",
    "height = int(input(\"Enter your height in inches: \"))\n",
    "\n",
    "BMI = (weight * 703) / (height * height)\n",
    "print(BMI)\n",
    "\n",
    "if BMI > 0:\n",
    "    if(BMI < 18.5):\n",
    "        print(name + \",\"+ \"You are underweight\")\n",
    "    elif(BMI < 24.9):\n",
    "        print(name + \",\"+ \"You are normal weight\")\n",
    "    elif(BMI < 29.9):\n",
    "        print(name + \",\"+ \"You are overweight\")\n",
    "    elif(BMI < 34.9):\n",
    "        print(name + \",\"+ \"You are obese\")\n",
    "    elif(BMI < 39.9):\n",
    "        print(name + \",\"+ \"You are severely obese\")\n",
    "    else:\n",
    "        print(name + \",\"+ \"you are morbidly obese\")\n",
    "else:\n",
    "    print(\"Enter valid input\")\n",
    "\n"
   ]
  },
  {
   "cell_type": "code",
   "execution_count": null,
   "id": "efcdfc2e",
   "metadata": {},
   "outputs": [],
   "source": [
    "if BMI > 0:\n",
    "    if(BMI < 18.5):\n",
    "        print(name + \",\"+ \"You are underweight\")\n",
    "    elif(BMI < 24.9):\n",
    "        print(name + \",\"+ \"You are normal weight\")\n",
    "    elif(BMI < 29.9):\n",
    "        print(name + \",\"+ \"You are overweight\")\n",
    "    elif(BMI < 34.9):\n",
    "        print(name + \",\"+ \"You are obese\")\n",
    "    elif(BMI < 39.9):\n",
    "        print(name + \",\"+ \"You are severely obese\")\n",
    "    else:\n",
    "        print(name + \",\"+ \"you are morbidly obese\")\n",
    "else:\n",
    "    print(\"Enter valid input)"
   ]
  },
  {
   "cell_type": "code",
   "execution_count": null,
   "id": "17b3f065",
   "metadata": {},
   "outputs": [],
   "source": []
  }
 ],
 "metadata": {
  "kernelspec": {
   "display_name": "Python 3 (ipykernel)",
   "language": "python",
   "name": "python3"
  },
  "language_info": {
   "codemirror_mode": {
    "name": "ipython",
    "version": 3
   },
   "file_extension": ".py",
   "mimetype": "text/x-python",
   "name": "python",
   "nbconvert_exporter": "python",
   "pygments_lexer": "ipython3",
   "version": "3.11.5"
  }
 },
 "nbformat": 4,
 "nbformat_minor": 5
}
