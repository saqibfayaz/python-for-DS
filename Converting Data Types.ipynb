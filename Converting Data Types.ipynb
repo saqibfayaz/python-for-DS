{
 "cells": [
  {
   "cell_type": "code",
   "execution_count": 3,
   "id": "162b66e2",
   "metadata": {},
   "outputs": [
    {
     "data": {
      "text/plain": [
       "int"
      ]
     },
     "execution_count": 3,
     "metadata": {},
     "output_type": "execute_result"
    }
   ],
   "source": [
    "num_int = 7\n",
    "type(num_int)"
   ]
  },
  {
   "cell_type": "code",
   "execution_count": 5,
   "id": "34cfac4b",
   "metadata": {},
   "outputs": [
    {
     "data": {
      "text/plain": [
       "str"
      ]
     },
     "execution_count": 5,
     "metadata": {},
     "output_type": "execute_result"
    }
   ],
   "source": [
    "num_str = '7'\n",
    "\n",
    "type(num_str)"
   ]
  },
  {
   "cell_type": "code",
   "execution_count": 6,
   "id": "32664436",
   "metadata": {},
   "outputs": [],
   "source": [
    "num_str_conv = int(num_str) "
   ]
  },
  {
   "cell_type": "code",
   "execution_count": 7,
   "id": "25208065",
   "metadata": {},
   "outputs": [],
   "source": [
    "num_sum= num_str_conv + num_int"
   ]
  },
  {
   "cell_type": "code",
   "execution_count": 8,
   "id": "31428c4c",
   "metadata": {},
   "outputs": [
    {
     "data": {
      "text/plain": [
       "14"
      ]
     },
     "execution_count": 8,
     "metadata": {},
     "output_type": "execute_result"
    }
   ],
   "source": [
    "num_sum"
   ]
  },
  {
   "cell_type": "code",
   "execution_count": 9,
   "id": "52a70b26",
   "metadata": {},
   "outputs": [
    {
     "data": {
      "text/plain": [
       "list"
      ]
     },
     "execution_count": 9,
     "metadata": {},
     "output_type": "execute_result"
    }
   ],
   "source": [
    "list_type= [1,2,3]\n",
    "type(list_type)"
   ]
  },
  {
   "cell_type": "code",
   "execution_count": 11,
   "id": "f7f89f70",
   "metadata": {},
   "outputs": [
    {
     "data": {
      "text/plain": [
       "tuple"
      ]
     },
     "execution_count": 11,
     "metadata": {},
     "output_type": "execute_result"
    }
   ],
   "source": [
    "type(tuple(list_type))"
   ]
  },
  {
   "cell_type": "code",
   "execution_count": 12,
   "id": "24aa9231",
   "metadata": {},
   "outputs": [],
   "source": [
    "list_type= [1,2,3,4,3,2,1,3,4,5,4,3,6,5,6,7,5,5,7,5]"
   ]
  },
  {
   "cell_type": "code",
   "execution_count": 13,
   "id": "917c53d8",
   "metadata": {},
   "outputs": [
    {
     "data": {
      "text/plain": [
       "{1, 2, 3, 4, 5, 6, 7}"
      ]
     },
     "execution_count": 13,
     "metadata": {},
     "output_type": "execute_result"
    }
   ],
   "source": [
    "set(list_type)"
   ]
  },
  {
   "cell_type": "code",
   "execution_count": 16,
   "id": "6496893b",
   "metadata": {},
   "outputs": [],
   "source": [
    "dict_type = {'name': 'saqib', 'age': 28, \"hair\": \"black\"}"
   ]
  },
  {
   "cell_type": "code",
   "execution_count": 17,
   "id": "a5704aec",
   "metadata": {},
   "outputs": [
    {
     "data": {
      "text/plain": [
       "dict_items([('name', 'saqib'), ('age', 28), ('hair', 'black')])"
      ]
     },
     "execution_count": 17,
     "metadata": {},
     "output_type": "execute_result"
    }
   ],
   "source": [
    "dict_type.items()"
   ]
  },
  {
   "cell_type": "code",
   "execution_count": 19,
   "id": "27826625",
   "metadata": {},
   "outputs": [
    {
     "data": {
      "text/plain": [
       "list"
      ]
     },
     "execution_count": 19,
     "metadata": {},
     "output_type": "execute_result"
    }
   ],
   "source": [
    "type(list(dict_type.keys()))"
   ]
  },
  {
   "cell_type": "code",
   "execution_count": null,
   "id": "a2fba1dd",
   "metadata": {},
   "outputs": [],
   "source": []
  }
 ],
 "metadata": {
  "kernelspec": {
   "display_name": "Python 3 (ipykernel)",
   "language": "python",
   "name": "python3"
  },
  "language_info": {
   "codemirror_mode": {
    "name": "ipython",
    "version": 3
   },
   "file_extension": ".py",
   "mimetype": "text/x-python",
   "name": "python",
   "nbconvert_exporter": "python",
   "pygments_lexer": "ipython3",
   "version": "3.11.5"
  }
 },
 "nbformat": 4,
 "nbformat_minor": 5
}
