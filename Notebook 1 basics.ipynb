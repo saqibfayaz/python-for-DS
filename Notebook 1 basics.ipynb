{
 "cells": [
  {
   "cell_type": "code",
   "execution_count": 1,
   "id": "3a15de70",
   "metadata": {},
   "outputs": [
    {
     "name": "stdout",
     "output_type": "stream",
     "text": [
      "Hello World\n"
     ]
    }
   ],
   "source": [
    "print(\"Hello World\")\n"
   ]
  },
  {
   "cell_type": "markdown",
   "id": "ef6290f5",
   "metadata": {},
   "source": [
    "## First Notebook"
   ]
  },
  {
   "cell_type": "code",
   "execution_count": 2,
   "id": "4284590e",
   "metadata": {},
   "outputs": [],
   "source": [
    "x = 22"
   ]
  },
  {
   "cell_type": "code",
   "execution_count": 6,
   "id": "67a98a31",
   "metadata": {},
   "outputs": [
    {
     "name": "stdout",
     "output_type": "stream",
     "text": [
      "22\n"
     ]
    }
   ],
   "source": [
    "x\n",
    "print(x)"
   ]
  },
  {
   "cell_type": "code",
   "execution_count": 7,
   "id": "5c6c5a0f",
   "metadata": {},
   "outputs": [
    {
     "data": {
      "text/plain": [
       "int"
      ]
     },
     "execution_count": 7,
     "metadata": {},
     "output_type": "execute_result"
    }
   ],
   "source": [
    "type(x)"
   ]
  },
  {
   "cell_type": "code",
   "execution_count": 8,
   "id": "3c9e5dda",
   "metadata": {},
   "outputs": [],
   "source": [
    "y = \"ice cream\""
   ]
  },
  {
   "cell_type": "code",
   "execution_count": 9,
   "id": "f9cba0b1",
   "metadata": {},
   "outputs": [
    {
     "name": "stdout",
     "output_type": "stream",
     "text": [
      "ice cream\n"
     ]
    }
   ],
   "source": [
    "print(y)\n"
   ]
  },
  {
   "cell_type": "code",
   "execution_count": 10,
   "id": "dda9b2c9",
   "metadata": {},
   "outputs": [
    {
     "data": {
      "text/plain": [
       "str"
      ]
     },
     "execution_count": 10,
     "metadata": {},
     "output_type": "execute_result"
    }
   ],
   "source": [
    "type(y)"
   ]
  },
  {
   "cell_type": "code",
   "execution_count": 12,
   "id": "562cb360",
   "metadata": {},
   "outputs": [],
   "source": [
    "x,y,z = 'chocolate','vanila','rocky'\n"
   ]
  },
  {
   "cell_type": "code",
   "execution_count": 13,
   "id": "b0c11571",
   "metadata": {},
   "outputs": [
    {
     "name": "stdout",
     "output_type": "stream",
     "text": [
      "chocolate\n",
      "vanila\n",
      "rocky\n"
     ]
    }
   ],
   "source": [
    "print(x)\n",
    "print(y)\n",
    "print(z) "
   ]
  },
  {
   "cell_type": "code",
   "execution_count": 16,
   "id": "8833d555",
   "metadata": {},
   "outputs": [],
   "source": [
    "ice_cream = ['chocolate','vanila','rockyy']\n",
    "x,y,z = ice_cream"
   ]
  },
  {
   "cell_type": "code",
   "execution_count": 17,
   "id": "1fed5f63",
   "metadata": {},
   "outputs": [
    {
     "name": "stdout",
     "output_type": "stream",
     "text": [
      "chocolate\n",
      "vanila\n",
      "rockyy\n"
     ]
    }
   ],
   "source": [
    "print(x)\n",
    "print(y)\n",
    "print(z)"
   ]
  },
  {
   "cell_type": "code",
   "execution_count": 18,
   "id": "07739d77",
   "metadata": {},
   "outputs": [
    {
     "name": "stdout",
     "output_type": "stream",
     "text": [
      "5.2\n"
     ]
    }
   ],
   "source": [
    "x = 3.2 + 2\n",
    "print(x)"
   ]
  },
  {
   "cell_type": "markdown",
   "id": "59a97a45",
   "metadata": {},
   "source": [
    "## Data Types"
   ]
  },
  {
   "cell_type": "code",
   "execution_count": 24,
   "id": "f026d2b4",
   "metadata": {},
   "outputs": [
    {
     "data": {
      "text/plain": [
       "complex"
      ]
     },
     "execution_count": 24,
     "metadata": {},
     "output_type": "execute_result"
    }
   ],
   "source": [
    "type(-12 + 0.5j)"
   ]
  },
  {
   "cell_type": "code",
   "execution_count": 27,
   "id": "b8ea739d",
   "metadata": {},
   "outputs": [
    {
     "data": {
      "text/plain": [
       "bool"
      ]
     },
     "execution_count": 27,
     "metadata": {},
     "output_type": "execute_result"
    }
   ],
   "source": [
    "#Boolean\n",
    "type(True)\n",
    "type(1 > 5)"
   ]
  },
  {
   "cell_type": "code",
   "execution_count": 30,
   "id": "572fec07",
   "metadata": {},
   "outputs": [
    {
     "data": {
      "text/plain": [
       "False"
      ]
     },
     "execution_count": 30,
     "metadata": {},
     "output_type": "execute_result"
    }
   ],
   "source": [
    "1>4"
   ]
  },
  {
   "cell_type": "code",
   "execution_count": 29,
   "id": "d6b614d9",
   "metadata": {},
   "outputs": [
    {
     "data": {
      "text/plain": [
       "True"
      ]
     },
     "execution_count": 29,
     "metadata": {},
     "output_type": "execute_result"
    }
   ],
   "source": [
    "1 == 1"
   ]
  },
  {
   "cell_type": "code",
   "execution_count": 32,
   "id": "46e317b9",
   "metadata": {},
   "outputs": [
    {
     "data": {
      "text/plain": [
       "'single quote'"
      ]
     },
     "execution_count": 32,
     "metadata": {},
     "output_type": "execute_result"
    }
   ],
   "source": [
    "# String\n",
    "'single quote'\n"
   ]
  },
  {
   "cell_type": "code",
   "execution_count": 33,
   "id": "97a13379",
   "metadata": {},
   "outputs": [
    {
     "data": {
      "text/plain": [
       "'Double quote'"
      ]
     },
     "execution_count": 33,
     "metadata": {},
     "output_type": "execute_result"
    }
   ],
   "source": [
    "\"Double quote\""
   ]
  },
  {
   "cell_type": "code",
   "execution_count": 37,
   "id": "1fb4745a",
   "metadata": {},
   "outputs": [],
   "source": [
    "MULTILINE = '''\n",
    "I \n",
    "A'M\n",
    "WORKING\n",
    "ON IT\n",
    "'''"
   ]
  },
  {
   "cell_type": "code",
   "execution_count": 38,
   "id": "4c1c5855",
   "metadata": {},
   "outputs": [
    {
     "name": "stdout",
     "output_type": "stream",
     "text": [
      "\n",
      "I \n",
      "A'M\n",
      "WORKING\n",
      "ON IT\n",
      "\n"
     ]
    }
   ],
   "source": [
    "print(MULTILINE)"
   ]
  },
  {
   "cell_type": "code",
   "execution_count": 40,
   "id": "cbf2222b",
   "metadata": {},
   "outputs": [],
   "source": [
    "a = \"Hello World\""
   ]
  },
  {
   "cell_type": "code",
   "execution_count": 41,
   "id": "9d9da648",
   "metadata": {},
   "outputs": [
    {
     "name": "stdout",
     "output_type": "stream",
     "text": [
      "Hello\n"
     ]
    }
   ],
   "source": [
    "print(a[:5])"
   ]
  },
  {
   "cell_type": "code",
   "execution_count": 42,
   "id": "c6ba1a72",
   "metadata": {},
   "outputs": [],
   "source": [
    "# list\n",
    "a =[1,2,3,4]  "
   ]
  },
  {
   "cell_type": "code",
   "execution_count": 43,
   "id": "928bd747",
   "metadata": {},
   "outputs": [
    {
     "data": {
      "text/plain": [
       "list"
      ]
     },
     "execution_count": 43,
     "metadata": {},
     "output_type": "execute_result"
    }
   ],
   "source": [
    "type(a)"
   ]
  },
  {
   "cell_type": "code",
   "execution_count": 44,
   "id": "116f9d21",
   "metadata": {},
   "outputs": [],
   "source": [
    "a = [\"one\",2, 'three', 4.0]"
   ]
  },
  {
   "cell_type": "code",
   "execution_count": 45,
   "id": "387a2522",
   "metadata": {},
   "outputs": [
    {
     "data": {
      "text/plain": [
       "list"
      ]
     },
     "execution_count": 45,
     "metadata": {},
     "output_type": "execute_result"
    }
   ],
   "source": [
    "type(a)"
   ]
  },
  {
   "cell_type": "code",
   "execution_count": 46,
   "id": "dffebc49",
   "metadata": {},
   "outputs": [
    {
     "data": {
      "text/plain": [
       "6.0"
      ]
     },
     "execution_count": 46,
     "metadata": {},
     "output_type": "execute_result"
    }
   ],
   "source": [
    "a[1] + a[3]"
   ]
  },
  {
   "cell_type": "code",
   "execution_count": 47,
   "id": "c6da536c",
   "metadata": {},
   "outputs": [],
   "source": [
    "a.append(5j)"
   ]
  },
  {
   "cell_type": "code",
   "execution_count": 48,
   "id": "02f37f61",
   "metadata": {},
   "outputs": [
    {
     "data": {
      "text/plain": [
       "['one', 2, 'three', 4.0, 5j]"
      ]
     },
     "execution_count": 48,
     "metadata": {},
     "output_type": "execute_result"
    }
   ],
   "source": [
    "a"
   ]
  },
  {
   "cell_type": "code",
   "execution_count": 53,
   "id": "c4781a22",
   "metadata": {},
   "outputs": [],
   "source": [
    "nested_list = [1,2,[3,4,5],6]"
   ]
  },
  {
   "cell_type": "code",
   "execution_count": 54,
   "id": "4bc48460",
   "metadata": {},
   "outputs": [
    {
     "data": {
      "text/plain": [
       "2"
      ]
     },
     "execution_count": 54,
     "metadata": {},
     "output_type": "execute_result"
    }
   ],
   "source": [
    "nested_list[1]"
   ]
  },
  {
   "cell_type": "code",
   "execution_count": 55,
   "id": "a7071ff0",
   "metadata": {},
   "outputs": [
    {
     "data": {
      "text/plain": [
       "[3, 4, 5]"
      ]
     },
     "execution_count": 55,
     "metadata": {},
     "output_type": "execute_result"
    }
   ],
   "source": [
    "nested_list[2]"
   ]
  },
  {
   "cell_type": "code",
   "execution_count": 56,
   "id": "b3289673",
   "metadata": {},
   "outputs": [
    {
     "data": {
      "text/plain": [
       "4"
      ]
     },
     "execution_count": 56,
     "metadata": {},
     "output_type": "execute_result"
    }
   ],
   "source": [
    "nested_list[2][1]"
   ]
  },
  {
   "cell_type": "code",
   "execution_count": 57,
   "id": "e1de5e80",
   "metadata": {},
   "outputs": [],
   "source": [
    "# tuple (cannot be modified once created)\n",
    "\n",
    "tuple_scoops = (1,2,3,2,1)"
   ]
  },
  {
   "cell_type": "code",
   "execution_count": 59,
   "id": "df19bce4",
   "metadata": {},
   "outputs": [
    {
     "data": {
      "text/plain": [
       "2"
      ]
     },
     "execution_count": 59,
     "metadata": {},
     "output_type": "execute_result"
    }
   ],
   "source": [
    "tuple_scoops[1]"
   ]
  },
  {
   "cell_type": "code",
   "execution_count": 60,
   "id": "4fecc85e",
   "metadata": {},
   "outputs": [
    {
     "ename": "AttributeError",
     "evalue": "'tuple' object has no attribute 'append'",
     "output_type": "error",
     "traceback": [
      "\u001b[0;31m---------------------------------------------------------------------------\u001b[0m",
      "\u001b[0;31mAttributeError\u001b[0m                            Traceback (most recent call last)",
      "Cell \u001b[0;32mIn[60], line 1\u001b[0m\n\u001b[0;32m----> 1\u001b[0m tuple_scoops\u001b[38;5;241m.\u001b[39mappend(\u001b[38;5;241m2\u001b[39m)\n",
      "\u001b[0;31mAttributeError\u001b[0m: 'tuple' object has no attribute 'append'"
     ]
    }
   ],
   "source": [
    "tuple_scoops.append(2)"
   ]
  },
  {
   "cell_type": "code",
   "execution_count": 61,
   "id": "210d26f4",
   "metadata": {},
   "outputs": [],
   "source": [
    "# Sets\n",
    "# sets are unindexted and therefore does not have order therefore indexing cannot be used on them\n",
    "\n",
    "daily_pints = {1,2,3}"
   ]
  },
  {
   "cell_type": "code",
   "execution_count": 62,
   "id": "da2b481c",
   "metadata": {},
   "outputs": [
    {
     "data": {
      "text/plain": [
       "set"
      ]
     },
     "execution_count": 62,
     "metadata": {},
     "output_type": "execute_result"
    }
   ],
   "source": [
    "type(daily_pints)"
   ]
  },
  {
   "cell_type": "code",
   "execution_count": 63,
   "id": "d62a6145",
   "metadata": {},
   "outputs": [],
   "source": [
    "daily_pints_log = {1,2,3,4,5,6,43,342,1,2,3,4,5,64,2,3,5,7,5,9,76,53,2}"
   ]
  },
  {
   "cell_type": "code",
   "execution_count": 64,
   "id": "31892592",
   "metadata": {},
   "outputs": [
    {
     "data": {
      "text/plain": [
       "{1, 2, 3, 4, 5, 6, 7, 9, 43, 53, 64, 76, 342}"
      ]
     },
     "execution_count": 64,
     "metadata": {},
     "output_type": "execute_result"
    }
   ],
   "source": [
    "daily_pints_log"
   ]
  },
  {
   "cell_type": "code",
   "execution_count": 65,
   "id": "969f0b0c",
   "metadata": {},
   "outputs": [
    {
     "ename": "TypeError",
     "evalue": "'set' object is not subscriptable",
     "output_type": "error",
     "traceback": [
      "\u001b[0;31m---------------------------------------------------------------------------\u001b[0m",
      "\u001b[0;31mTypeError\u001b[0m                                 Traceback (most recent call last)",
      "Cell \u001b[0;32mIn[65], line 1\u001b[0m\n\u001b[0;32m----> 1\u001b[0m daily_pints_log[\u001b[38;5;241m1\u001b[39m]\n",
      "\u001b[0;31mTypeError\u001b[0m: 'set' object is not subscriptable"
     ]
    }
   ],
   "source": [
    "daily_pints_log[1]"
   ]
  },
  {
   "cell_type": "code",
   "execution_count": 66,
   "id": "b902bc13",
   "metadata": {},
   "outputs": [],
   "source": [
    "wife_daily_pints_log = {1,2,3,3,4,5,6,43,2,54,561,1,44,3,32,24,2}"
   ]
  },
  {
   "cell_type": "code",
   "execution_count": 69,
   "id": "fcd3801b",
   "metadata": {},
   "outputs": [
    {
     "name": "stdout",
     "output_type": "stream",
     "text": [
      "{64, 1, 2, 3, 4, 5, 6, 7, 9, 76, 342, 24, 32, 43, 44, 561, 53, 54}\n"
     ]
    }
   ],
   "source": [
    "print(daily_pints_log | wife_daily_pints_log) # all unique values "
   ]
  },
  {
   "cell_type": "code",
   "execution_count": 70,
   "id": "14ad366b",
   "metadata": {},
   "outputs": [
    {
     "name": "stdout",
     "output_type": "stream",
     "text": [
      "{1, 2, 3, 4, 5, 6, 43}\n"
     ]
    }
   ],
   "source": [
    "print(daily_pints_log & wife_daily_pints_log) # all common values "
   ]
  },
  {
   "cell_type": "code",
   "execution_count": 71,
   "id": "9a980b56",
   "metadata": {},
   "outputs": [
    {
     "name": "stdout",
     "output_type": "stream",
     "text": [
      "{64, 7, 9, 76, 53, 342}\n"
     ]
    }
   ],
   "source": [
    "print(daily_pints_log - wife_daily_pints_log) # all non common values "
   ]
  },
  {
   "cell_type": "code",
   "execution_count": 72,
   "id": "9d83b616",
   "metadata": {},
   "outputs": [
    {
     "name": "stdout",
     "output_type": "stream",
     "text": [
      "{32, 64, 7, 9, 44, 76, 561, 53, 54, 342, 24}\n"
     ]
    }
   ],
   "source": [
    "print(daily_pints_log ^ wife_daily_pints_log) # value either in one or other but not in both"
   ]
  },
  {
   "cell_type": "code",
   "execution_count": 103,
   "id": "e2297ab0",
   "metadata": {},
   "outputs": [],
   "source": [
    "#dictionary\n",
    "#key/value pair\n",
    "dict_cream = {'name': 'saqib', 'weekly intake': 5,'favourite ice_cream':['vanila','choco']}"
   ]
  },
  {
   "cell_type": "code",
   "execution_count": 104,
   "id": "8693828a",
   "metadata": {},
   "outputs": [
    {
     "data": {
      "text/plain": [
       "{'name': 'saqib',\n",
       " 'weekly intake': 5,\n",
       " 'favourite ice_cream': ['vanila', 'choco']}"
      ]
     },
     "execution_count": 104,
     "metadata": {},
     "output_type": "execute_result"
    }
   ],
   "source": [
    "dict_cream"
   ]
  },
  {
   "cell_type": "code",
   "execution_count": 96,
   "id": "33365a7a",
   "metadata": {},
   "outputs": [
    {
     "data": {
      "text/plain": [
       "dict"
      ]
     },
     "execution_count": 96,
     "metadata": {},
     "output_type": "execute_result"
    }
   ],
   "source": [
    "type(dict_cream)"
   ]
  },
  {
   "cell_type": "code",
   "execution_count": 97,
   "id": "e189750c",
   "metadata": {},
   "outputs": [
    {
     "data": {
      "text/plain": [
       "dict_values(['saqib', 5, ['vanila', 'choco']])"
      ]
     },
     "execution_count": 97,
     "metadata": {},
     "output_type": "execute_result"
    }
   ],
   "source": [
    "dict_cream.values()"
   ]
  },
  {
   "cell_type": "code",
   "execution_count": 98,
   "id": "03ad11f5",
   "metadata": {},
   "outputs": [
    {
     "data": {
      "text/plain": [
       "dict_keys(['name', 'weekly intake', 'favourite ice_cream'])"
      ]
     },
     "execution_count": 98,
     "metadata": {},
     "output_type": "execute_result"
    }
   ],
   "source": [
    "dict_cream.keys()"
   ]
  },
  {
   "cell_type": "code",
   "execution_count": 99,
   "id": "7e79f6e7",
   "metadata": {},
   "outputs": [
    {
     "data": {
      "text/plain": [
       "dict_items([('name', 'saqib'), ('weekly intake', 5), ('favourite ice_cream', ['vanila', 'choco'])])"
      ]
     },
     "execution_count": 99,
     "metadata": {},
     "output_type": "execute_result"
    }
   ],
   "source": [
    "dict_cream.items()"
   ]
  },
  {
   "cell_type": "code",
   "execution_count": 100,
   "id": "5b6a0f84",
   "metadata": {},
   "outputs": [
    {
     "ename": "KeyError",
     "evalue": "0",
     "output_type": "error",
     "traceback": [
      "\u001b[0;31m---------------------------------------------------------------------------\u001b[0m",
      "\u001b[0;31mKeyError\u001b[0m                                  Traceback (most recent call last)",
      "Cell \u001b[0;32mIn[100], line 1\u001b[0m\n\u001b[0;32m----> 1\u001b[0m dict_cream[\u001b[38;5;241m0\u001b[39m]\n",
      "\u001b[0;31mKeyError\u001b[0m: 0"
     ]
    }
   ],
   "source": [
    "dict_cream[0] # this will not work"
   ]
  },
  {
   "cell_type": "code",
   "execution_count": 101,
   "id": "ba2534c6",
   "metadata": {},
   "outputs": [
    {
     "data": {
      "text/plain": [
       "'saqib'"
      ]
     },
     "execution_count": 101,
     "metadata": {},
     "output_type": "execute_result"
    }
   ],
   "source": [
    "dict_cream['name']"
   ]
  },
  {
   "cell_type": "code",
   "execution_count": 105,
   "id": "5f079a5f",
   "metadata": {},
   "outputs": [],
   "source": [
    "dict_cream['name'] = 'fayaz'"
   ]
  },
  {
   "cell_type": "code",
   "execution_count": 107,
   "id": "36fa2262",
   "metadata": {},
   "outputs": [
    {
     "name": "stdout",
     "output_type": "stream",
     "text": [
      "{'name': 'fayaz', 'weekly intake': 5, 'favourite ice_cream': ['vanila', 'choco']}\n"
     ]
    }
   ],
   "source": [
    "print(dict_cream)"
   ]
  },
  {
   "cell_type": "code",
   "execution_count": 109,
   "id": "dee5bb3d",
   "metadata": {},
   "outputs": [
    {
     "name": "stdout",
     "output_type": "stream",
     "text": [
      "{'name': 'saqib', 'weekly intake': 6, 'favourite ice_cream': ['vanila', 'choco'], 'weight': 82}\n"
     ]
    }
   ],
   "source": [
    "dict_cream.update({'name': 'saqib', 'weekly intake': 6, 'favourite ice_cream': ['vanila', 'choco'], 'weight':82})\n",
    "print(dict_cream)"
   ]
  },
  {
   "cell_type": "code",
   "execution_count": 110,
   "id": "cad79ec6",
   "metadata": {},
   "outputs": [],
   "source": [
    "del dict_cream['weight']"
   ]
  },
  {
   "cell_type": "code",
   "execution_count": 111,
   "id": "1fdaa029",
   "metadata": {},
   "outputs": [
    {
     "data": {
      "text/plain": [
       "{'name': 'saqib',\n",
       " 'weekly intake': 6,\n",
       " 'favourite ice_cream': ['vanila', 'choco']}"
      ]
     },
     "execution_count": 111,
     "metadata": {},
     "output_type": "execute_result"
    }
   ],
   "source": [
    "dict_cream"
   ]
  },
  {
   "cell_type": "markdown",
   "id": "227ee023",
   "metadata": {},
   "source": [
    "## Comparison Operators"
   ]
  },
  {
   "cell_type": "code",
   "execution_count": 112,
   "id": "77ef6132",
   "metadata": {},
   "outputs": [
    {
     "data": {
      "text/plain": [
       "True"
      ]
     },
     "execution_count": 112,
     "metadata": {},
     "output_type": "execute_result"
    }
   ],
   "source": [
    "1 == 1"
   ]
  },
  {
   "cell_type": "code",
   "execution_count": 113,
   "id": "258f8fe9",
   "metadata": {},
   "outputs": [
    {
     "data": {
      "text/plain": [
       "False"
      ]
     },
     "execution_count": 113,
     "metadata": {},
     "output_type": "execute_result"
    }
   ],
   "source": [
    "1 > 2"
   ]
  },
  {
   "cell_type": "code",
   "execution_count": 114,
   "id": "3398f348",
   "metadata": {},
   "outputs": [
    {
     "data": {
      "text/plain": [
       "True"
      ]
     },
     "execution_count": 114,
     "metadata": {},
     "output_type": "execute_result"
    }
   ],
   "source": [
    "1 < 2"
   ]
  },
  {
   "cell_type": "code",
   "execution_count": 115,
   "id": "c7773b17",
   "metadata": {},
   "outputs": [
    {
     "data": {
      "text/plain": [
       "True"
      ]
     },
     "execution_count": 115,
     "metadata": {},
     "output_type": "execute_result"
    }
   ],
   "source": [
    "1 != 2"
   ]
  },
  {
   "cell_type": "code",
   "execution_count": 116,
   "id": "e23c1876",
   "metadata": {},
   "outputs": [
    {
     "data": {
      "text/plain": [
       "False"
      ]
     },
     "execution_count": 116,
     "metadata": {},
     "output_type": "execute_result"
    }
   ],
   "source": [
    "1 != 1"
   ]
  },
  {
   "cell_type": "code",
   "execution_count": 117,
   "id": "7e45211f",
   "metadata": {},
   "outputs": [
    {
     "data": {
      "text/plain": [
       "True"
      ]
     },
     "execution_count": 117,
     "metadata": {},
     "output_type": "execute_result"
    }
   ],
   "source": [
    "1 <= 2"
   ]
  },
  {
   "cell_type": "code",
   "execution_count": 118,
   "id": "0df72ab3",
   "metadata": {},
   "outputs": [
    {
     "data": {
      "text/plain": [
       "False"
      ]
     },
     "execution_count": 118,
     "metadata": {},
     "output_type": "execute_result"
    }
   ],
   "source": [
    "1 >= 2"
   ]
  },
  {
   "cell_type": "code",
   "execution_count": 119,
   "id": "d17b8061",
   "metadata": {},
   "outputs": [
    {
     "data": {
      "text/plain": [
       "True"
      ]
     },
     "execution_count": 119,
     "metadata": {},
     "output_type": "execute_result"
    }
   ],
   "source": [
    "1 <= 1"
   ]
  },
  {
   "cell_type": "code",
   "execution_count": 125,
   "id": "ac383576",
   "metadata": {},
   "outputs": [
    {
     "data": {
      "text/plain": [
       "False"
      ]
     },
     "execution_count": 125,
     "metadata": {},
     "output_type": "execute_result"
    }
   ],
   "source": [
    "'hello' == 'HELLO'"
   ]
  },
  {
   "cell_type": "code",
   "execution_count": 126,
   "id": "6c9372dc",
   "metadata": {},
   "outputs": [
    {
     "data": {
      "text/plain": [
       "True"
      ]
     },
     "execution_count": 126,
     "metadata": {},
     "output_type": "execute_result"
    }
   ],
   "source": [
    "'hello' == \"hello\""
   ]
  },
  {
   "cell_type": "code",
   "execution_count": 128,
   "id": "90272cfa",
   "metadata": {},
   "outputs": [],
   "source": [
    "# logical operators\n",
    "# and , or, not"
   ]
  },
  {
   "cell_type": "code",
   "execution_count": 132,
   "id": "4eb799aa",
   "metadata": {},
   "outputs": [
    {
     "data": {
      "text/plain": [
       "False"
      ]
     },
     "execution_count": 132,
     "metadata": {},
     "output_type": "execute_result"
    }
   ],
   "source": [
    "(10 > 5) and (10 < 5)"
   ]
  },
  {
   "cell_type": "code",
   "execution_count": 133,
   "id": "237a70f5",
   "metadata": {},
   "outputs": [
    {
     "data": {
      "text/plain": [
       "True"
      ]
     },
     "execution_count": 133,
     "metadata": {},
     "output_type": "execute_result"
    }
   ],
   "source": [
    "(10 > 5) or (10 < 5)"
   ]
  },
  {
   "cell_type": "code",
   "execution_count": 135,
   "id": "c2d072ca",
   "metadata": {},
   "outputs": [
    {
     "data": {
      "text/plain": [
       "False"
      ]
     },
     "execution_count": 135,
     "metadata": {},
     "output_type": "execute_result"
    }
   ],
   "source": [
    "not(1<2)"
   ]
  },
  {
   "cell_type": "markdown",
   "id": "c7afc1a5",
   "metadata": {},
   "source": [
    "## Membership Operators `in` , `not in`"
   ]
  },
  {
   "cell_type": "code",
   "execution_count": 136,
   "id": "7b0a8115",
   "metadata": {},
   "outputs": [],
   "source": [
    "a = (1,2,3)"
   ]
  },
  {
   "cell_type": "code",
   "execution_count": 137,
   "id": "105fd522",
   "metadata": {},
   "outputs": [
    {
     "data": {
      "text/plain": [
       "True"
      ]
     },
     "execution_count": 137,
     "metadata": {},
     "output_type": "execute_result"
    }
   ],
   "source": [
    "1 in a"
   ]
  },
  {
   "cell_type": "code",
   "execution_count": 138,
   "id": "dcb59d28",
   "metadata": {},
   "outputs": [
    {
     "data": {
      "text/plain": [
       "False"
      ]
     },
     "execution_count": 138,
     "metadata": {},
     "output_type": "execute_result"
    }
   ],
   "source": [
    "4 in a"
   ]
  },
  {
   "cell_type": "code",
   "execution_count": 139,
   "id": "1f0ab890",
   "metadata": {},
   "outputs": [
    {
     "data": {
      "text/plain": [
       "True"
      ]
     },
     "execution_count": 139,
     "metadata": {},
     "output_type": "execute_result"
    }
   ],
   "source": [
    "4 not in a"
   ]
  },
  {
   "cell_type": "code",
   "execution_count": 140,
   "id": "2ce18b0b",
   "metadata": {},
   "outputs": [],
   "source": [
    "icy = 'temperature is icy outside and i am happy'"
   ]
  },
  {
   "cell_type": "code",
   "execution_count": 141,
   "id": "b4298531",
   "metadata": {},
   "outputs": [
    {
     "data": {
      "text/plain": [
       "True"
      ]
     },
     "execution_count": 141,
     "metadata": {},
     "output_type": "execute_result"
    }
   ],
   "source": [
    "'happy' in icy"
   ]
  },
  {
   "cell_type": "code",
   "execution_count": 142,
   "id": "5aacb83a",
   "metadata": {},
   "outputs": [
    {
     "data": {
      "text/plain": [
       "False"
      ]
     },
     "execution_count": 142,
     "metadata": {},
     "output_type": "execute_result"
    }
   ],
   "source": [
    "'inside' in icy"
   ]
  },
  {
   "cell_type": "code",
   "execution_count": 143,
   "id": "33f725b7",
   "metadata": {},
   "outputs": [
    {
     "data": {
      "text/plain": [
       "True"
      ]
     },
     "execution_count": 143,
     "metadata": {},
     "output_type": "execute_result"
    }
   ],
   "source": [
    "'inside' not in icy"
   ]
  },
  {
   "cell_type": "code",
   "execution_count": 144,
   "id": "93c80876",
   "metadata": {},
   "outputs": [
    {
     "data": {
      "text/plain": [
       "tuple"
      ]
     },
     "execution_count": 144,
     "metadata": {},
     "output_type": "execute_result"
    }
   ],
   "source": [
    "type(a)"
   ]
  },
  {
   "cell_type": "code",
   "execution_count": 145,
   "id": "c251ecaf",
   "metadata": {},
   "outputs": [],
   "source": [
    "a= [1,2]"
   ]
  },
  {
   "cell_type": "code",
   "execution_count": 146,
   "id": "90ec94c2",
   "metadata": {},
   "outputs": [
    {
     "data": {
      "text/plain": [
       "list"
      ]
     },
     "execution_count": 146,
     "metadata": {},
     "output_type": "execute_result"
    }
   ],
   "source": [
    "type(a)"
   ]
  },
  {
   "cell_type": "code",
   "execution_count": 147,
   "id": "2b6a886e",
   "metadata": {},
   "outputs": [
    {
     "data": {
      "text/plain": [
       "True"
      ]
     },
     "execution_count": 147,
     "metadata": {},
     "output_type": "execute_result"
    }
   ],
   "source": [
    "1 in a"
   ]
  },
  {
   "cell_type": "code",
   "execution_count": 148,
   "id": "40ab48b9",
   "metadata": {},
   "outputs": [],
   "source": [
    "scoops = [1,2,3,4,5,6,7]\n",
    "wanted_scoops = 8"
   ]
  },
  {
   "cell_type": "code",
   "execution_count": 149,
   "id": "7847a38d",
   "metadata": {},
   "outputs": [
    {
     "data": {
      "text/plain": [
       "False"
      ]
     },
     "execution_count": 149,
     "metadata": {},
     "output_type": "execute_result"
    }
   ],
   "source": [
    "wanted_scoops in scoops"
   ]
  },
  {
   "cell_type": "code",
   "execution_count": 150,
   "id": "5236571c",
   "metadata": {},
   "outputs": [
    {
     "data": {
      "text/plain": [
       "True"
      ]
     },
     "execution_count": 150,
     "metadata": {},
     "output_type": "execute_result"
    }
   ],
   "source": [
    "wanted_scoops not in scoops"
   ]
  },
  {
   "cell_type": "markdown",
   "id": "0470c81f",
   "metadata": {},
   "source": [
    "## If - Elif - Else Statements"
   ]
  },
  {
   "cell_type": "code",
   "execution_count": 151,
   "id": "2f5beb79",
   "metadata": {},
   "outputs": [
    {
     "name": "stdout",
     "output_type": "stream",
     "text": [
      "it worked\n"
     ]
    }
   ],
   "source": [
    "if 25 > 10:\n",
    "    print(\"it worked\")"
   ]
  },
  {
   "cell_type": "code",
   "execution_count": 153,
   "id": "c6224a03",
   "metadata": {},
   "outputs": [
    {
     "name": "stdout",
     "output_type": "stream",
     "text": [
      "elif worked\n"
     ]
    }
   ],
   "source": [
    "if 25 < 10:\n",
    "    print(\"it worked\")\n",
    "elif 25 < 30:\n",
    "    print(\"elif worked\")\n",
    "else:\n",
    "    print(\"it did not work\")"
   ]
  },
  {
   "cell_type": "code",
   "execution_count": 154,
   "id": "5520544b",
   "metadata": {},
   "outputs": [
    {
     "name": "stdout",
     "output_type": "stream",
     "text": [
      "It didn't worked\n"
     ]
    }
   ],
   "source": [
    "print(\"it worked!\") if 10 > 30 else print(\"It didn't worked\")"
   ]
  },
  {
   "cell_type": "code",
   "execution_count": 155,
   "id": "ee9d18a5",
   "metadata": {},
   "outputs": [
    {
     "name": "stdout",
     "output_type": "stream",
     "text": [
      "elif worked\n",
      "nested if also got executed\n"
     ]
    }
   ],
   "source": [
    "if 25 < 10:\n",
    "    print(\"it worked\")\n",
    "elif 25 < 30:\n",
    "    print(\"elif worked\")\n",
    "    if(2<3):\n",
    "        print(\"nested if also got executed\")\n",
    "else:\n",
    "    print(\"it did not work\")"
   ]
  },
  {
   "cell_type": "code",
   "execution_count": null,
   "id": "6d5f5f3b",
   "metadata": {},
   "outputs": [],
   "source": []
  },
  {
   "cell_type": "code",
   "execution_count": null,
   "id": "ea8687eb",
   "metadata": {},
   "outputs": [],
   "source": []
  },
  {
   "cell_type": "code",
   "execution_count": null,
   "id": "b7f06193",
   "metadata": {},
   "outputs": [],
   "source": []
  },
  {
   "cell_type": "code",
   "execution_count": null,
   "id": "a7a1510c",
   "metadata": {},
   "outputs": [],
   "source": []
  },
  {
   "cell_type": "code",
   "execution_count": null,
   "id": "4a8abf78",
   "metadata": {},
   "outputs": [],
   "source": []
  },
  {
   "cell_type": "code",
   "execution_count": null,
   "id": "f624967f",
   "metadata": {},
   "outputs": [],
   "source": []
  },
  {
   "cell_type": "code",
   "execution_count": null,
   "id": "14ef5dab",
   "metadata": {},
   "outputs": [],
   "source": []
  },
  {
   "cell_type": "code",
   "execution_count": null,
   "id": "eb43999e",
   "metadata": {},
   "outputs": [],
   "source": []
  },
  {
   "cell_type": "code",
   "execution_count": null,
   "id": "01f7d9a5",
   "metadata": {},
   "outputs": [],
   "source": []
  },
  {
   "cell_type": "code",
   "execution_count": null,
   "id": "15ef0c2d",
   "metadata": {},
   "outputs": [],
   "source": []
  },
  {
   "cell_type": "code",
   "execution_count": null,
   "id": "0ae8f643",
   "metadata": {},
   "outputs": [],
   "source": []
  },
  {
   "cell_type": "code",
   "execution_count": null,
   "id": "fe06c50b",
   "metadata": {},
   "outputs": [],
   "source": []
  },
  {
   "cell_type": "code",
   "execution_count": null,
   "id": "49e52211",
   "metadata": {},
   "outputs": [],
   "source": []
  },
  {
   "cell_type": "code",
   "execution_count": null,
   "id": "bc8613ef",
   "metadata": {},
   "outputs": [],
   "source": []
  },
  {
   "cell_type": "code",
   "execution_count": null,
   "id": "b7f5f0a5",
   "metadata": {},
   "outputs": [],
   "source": []
  },
  {
   "cell_type": "code",
   "execution_count": null,
   "id": "90ad643a",
   "metadata": {},
   "outputs": [],
   "source": []
  },
  {
   "cell_type": "code",
   "execution_count": null,
   "id": "7de953d1",
   "metadata": {},
   "outputs": [],
   "source": []
  },
  {
   "cell_type": "code",
   "execution_count": null,
   "id": "195edadc",
   "metadata": {},
   "outputs": [],
   "source": []
  },
  {
   "cell_type": "code",
   "execution_count": null,
   "id": "209333a8",
   "metadata": {},
   "outputs": [],
   "source": []
  },
  {
   "cell_type": "code",
   "execution_count": null,
   "id": "384fe3b4",
   "metadata": {},
   "outputs": [],
   "source": []
  },
  {
   "cell_type": "code",
   "execution_count": null,
   "id": "4846e6e5",
   "metadata": {},
   "outputs": [],
   "source": []
  },
  {
   "cell_type": "code",
   "execution_count": null,
   "id": "ab00af93",
   "metadata": {},
   "outputs": [],
   "source": []
  },
  {
   "cell_type": "code",
   "execution_count": null,
   "id": "f4189be8",
   "metadata": {},
   "outputs": [],
   "source": []
  },
  {
   "cell_type": "code",
   "execution_count": null,
   "id": "727a0a29",
   "metadata": {},
   "outputs": [],
   "source": []
  },
  {
   "cell_type": "code",
   "execution_count": null,
   "id": "14d6b91b",
   "metadata": {},
   "outputs": [],
   "source": []
  },
  {
   "cell_type": "code",
   "execution_count": null,
   "id": "e61cfa7f",
   "metadata": {},
   "outputs": [],
   "source": []
  },
  {
   "cell_type": "code",
   "execution_count": null,
   "id": "1968c121",
   "metadata": {},
   "outputs": [],
   "source": []
  },
  {
   "cell_type": "code",
   "execution_count": null,
   "id": "eddceac2",
   "metadata": {},
   "outputs": [],
   "source": []
  },
  {
   "cell_type": "code",
   "execution_count": null,
   "id": "0029bd79",
   "metadata": {},
   "outputs": [],
   "source": []
  },
  {
   "cell_type": "code",
   "execution_count": null,
   "id": "76a990ba",
   "metadata": {},
   "outputs": [],
   "source": []
  },
  {
   "cell_type": "code",
   "execution_count": null,
   "id": "d5636146",
   "metadata": {},
   "outputs": [],
   "source": []
  },
  {
   "cell_type": "code",
   "execution_count": null,
   "id": "db66df42",
   "metadata": {},
   "outputs": [],
   "source": []
  },
  {
   "cell_type": "code",
   "execution_count": null,
   "id": "026e5875",
   "metadata": {},
   "outputs": [],
   "source": []
  },
  {
   "cell_type": "code",
   "execution_count": null,
   "id": "deb9b26e",
   "metadata": {},
   "outputs": [],
   "source": []
  },
  {
   "cell_type": "code",
   "execution_count": null,
   "id": "7673114c",
   "metadata": {},
   "outputs": [],
   "source": []
  },
  {
   "cell_type": "code",
   "execution_count": null,
   "id": "ea5e27e5",
   "metadata": {},
   "outputs": [],
   "source": []
  },
  {
   "cell_type": "code",
   "execution_count": null,
   "id": "699386fa",
   "metadata": {},
   "outputs": [],
   "source": []
  },
  {
   "cell_type": "code",
   "execution_count": null,
   "id": "7bcb2f47",
   "metadata": {},
   "outputs": [],
   "source": []
  },
  {
   "cell_type": "code",
   "execution_count": null,
   "id": "7ac01dd0",
   "metadata": {},
   "outputs": [],
   "source": []
  },
  {
   "cell_type": "code",
   "execution_count": null,
   "id": "9e083531",
   "metadata": {},
   "outputs": [],
   "source": []
  }
 ],
 "metadata": {
  "kernelspec": {
   "display_name": "Python 3 (ipykernel)",
   "language": "python",
   "name": "python3"
  },
  "language_info": {
   "codemirror_mode": {
    "name": "ipython",
    "version": 3
   },
   "file_extension": ".py",
   "mimetype": "text/x-python",
   "name": "python",
   "nbconvert_exporter": "python",
   "pygments_lexer": "ipython3",
   "version": "3.11.5"
  }
 },
 "nbformat": 4,
 "nbformat_minor": 5
}
