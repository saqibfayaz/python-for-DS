{
 "cells": [
  {
   "cell_type": "markdown",
   "id": "27efc365",
   "metadata": {},
   "source": [
    "## BeautifulSoup and Requests"
   ]
  },
  {
   "cell_type": "code",
   "execution_count": 1,
   "id": "71f236f4",
   "metadata": {},
   "outputs": [],
   "source": [
    "from bs4 import BeautifulSoup\n",
    "import requests"
   ]
  },
  {
   "cell_type": "code",
   "execution_count": 2,
   "id": "7c93ede4",
   "metadata": {},
   "outputs": [],
   "source": [
    "url = 'https://www.scrapethissite.com/pages/forms/'\n",
    "\n",
    "\n",
    "\n"
   ]
  },
  {
   "cell_type": "code",
   "execution_count": 5,
   "id": "8063fd77",
   "metadata": {},
   "outputs": [],
   "source": [
    "page =requests.get(url)"
   ]
  },
  {
   "cell_type": "code",
   "execution_count": 7,
   "id": "476a0e7d",
   "metadata": {},
   "outputs": [],
   "source": [
    "soup = BeautifulSoup(page.text, 'html')"
   ]
  },
  {
   "cell_type": "markdown",
   "id": "8b5f8fb4",
   "metadata": {},
   "source": [
    "## Find and Find_all"
   ]
  },
  {
   "cell_type": "code",
   "execution_count": null,
   "id": "a37ef7f7",
   "metadata": {},
   "outputs": [],
   "source": [
    "print(soup)"
   ]
  },
  {
   "cell_type": "code",
   "execution_count": 11,
   "id": "cdcef4af",
   "metadata": {},
   "outputs": [],
   "source": [
    "#print(soup.prettify())"
   ]
  },
  {
   "cell_type": "code",
   "execution_count": 12,
   "id": "a96b1f9a",
   "metadata": {},
   "outputs": [
    {
     "data": {
      "text/plain": [
       "<div class=\"container\">\n",
       "<div class=\"col-md-12\">\n",
       "<ul class=\"nav nav-tabs\">\n",
       "<li id=\"nav-homepage\">\n",
       "<a class=\"nav-link hidden-sm hidden-xs\" href=\"/\">\n",
       "<img id=\"nav-logo\" src=\"/static/images/scraper-icon.png\"/>\n",
       "                                Scrape This Site\n",
       "                            </a>\n",
       "</li>\n",
       "<li id=\"nav-sandbox\">\n",
       "<a class=\"nav-link\" href=\"/pages/\">\n",
       "<i class=\"glyphicon glyphicon-console hidden-sm hidden-xs\"></i>\n",
       "                                Sandbox\n",
       "                            </a>\n",
       "</li>\n",
       "<li id=\"nav-lessons\">\n",
       "<a class=\"nav-link\" href=\"/lessons/\">\n",
       "<i class=\"glyphicon glyphicon-education hidden-sm hidden-xs\"></i>\n",
       "                                Lessons\n",
       "                            </a>\n",
       "</li>\n",
       "<li id=\"nav-faq\">\n",
       "<a class=\"nav-link\" href=\"/faq/\">\n",
       "<i class=\"glyphicon glyphicon-flag hidden-sm hidden-xs\"></i>\n",
       "                                FAQ\n",
       "                            </a>\n",
       "</li>\n",
       "<li class=\"pull-right\" id=\"nav-login\">\n",
       "<a class=\"nav-link\" href=\"/login/\">\n",
       "                                Login\n",
       "                            </a>\n",
       "</li>\n",
       "</ul>\n",
       "</div>\n",
       "</div>"
      ]
     },
     "execution_count": 12,
     "metadata": {},
     "output_type": "execute_result"
    }
   ],
   "source": [
    "soup.find('div')"
   ]
  },
  {
   "cell_type": "code",
   "execution_count": 15,
   "id": "6b408b6e",
   "metadata": {},
   "outputs": [
    {
     "data": {
      "text/plain": [
       "[<div class=\"col-md-12\">\n",
       " <ul class=\"nav nav-tabs\">\n",
       " <li id=\"nav-homepage\">\n",
       " <a class=\"nav-link hidden-sm hidden-xs\" href=\"/\">\n",
       " <img id=\"nav-logo\" src=\"/static/images/scraper-icon.png\"/>\n",
       "                                 Scrape This Site\n",
       "                             </a>\n",
       " </li>\n",
       " <li id=\"nav-sandbox\">\n",
       " <a class=\"nav-link\" href=\"/pages/\">\n",
       " <i class=\"glyphicon glyphicon-console hidden-sm hidden-xs\"></i>\n",
       "                                 Sandbox\n",
       "                             </a>\n",
       " </li>\n",
       " <li id=\"nav-lessons\">\n",
       " <a class=\"nav-link\" href=\"/lessons/\">\n",
       " <i class=\"glyphicon glyphicon-education hidden-sm hidden-xs\"></i>\n",
       "                                 Lessons\n",
       "                             </a>\n",
       " </li>\n",
       " <li id=\"nav-faq\">\n",
       " <a class=\"nav-link\" href=\"/faq/\">\n",
       " <i class=\"glyphicon glyphicon-flag hidden-sm hidden-xs\"></i>\n",
       "                                 FAQ\n",
       "                             </a>\n",
       " </li>\n",
       " <li class=\"pull-right\" id=\"nav-login\">\n",
       " <a class=\"nav-link\" href=\"/login/\">\n",
       "                                 Login\n",
       "                             </a>\n",
       " </li>\n",
       " </ul>\n",
       " </div>,\n",
       " <div class=\"col-md-12\">\n",
       " <h1>\n",
       "                             Hockey Teams: Forms, Searching and Pagination\n",
       "                             <small>25 items</small>\n",
       " </h1>\n",
       " <hr/>\n",
       " </div>,\n",
       " <div class=\"col-md-12\">\n",
       " <p class=\"lead\">\n",
       "                             Browse through a database of NHL team stats since 1990. Practice building a scraper that handles common website interface components.\n",
       "                             Take a look at how pagination and search elements change the URL as your browse. Build a web scraper that can conduct searches and paginate through the results.\n",
       "                         </p>\n",
       " <hr/>\n",
       " </div>,\n",
       " <div class=\"col-md-12 text-center\">\n",
       " <form action=\"/pages/forms/\" class=\"form form-inline\" method=\"GET\">\n",
       " <label for=\"q\">\n",
       "                                 Search for Teams:  \n",
       "                             </label>\n",
       " <input class=\"form-control\" id=\"q\" name=\"q\" placeholder=\"Search for Teams\" type=\"text\"/>\n",
       " <input class=\"btn btn-primary\" type=\"submit\" value=\"Search\"/>\n",
       " </form>\n",
       " <hr/>\n",
       " </div>,\n",
       " <div class=\"col-md-12 text-center text-muted\">\n",
       "                     Lessons and Videos © Hartley Brody 2023\n",
       "                 </div>]"
      ]
     },
     "execution_count": 15,
     "metadata": {},
     "output_type": "execute_result"
    }
   ],
   "source": [
    "soup.find_all('div', class_ = 'col-md-12')"
   ]
  },
  {
   "cell_type": "code",
   "execution_count": 20,
   "id": "ebbd30cb",
   "metadata": {},
   "outputs": [],
   "source": [
    "#soup.find_all('p', class_ = 'lead').text #it will not work"
   ]
  },
  {
   "cell_type": "code",
   "execution_count": 21,
   "id": "c69ff399",
   "metadata": {},
   "outputs": [],
   "source": [
    "#so once you find the partcular data , use find and not find_all for text conversion"
   ]
  },
  {
   "cell_type": "code",
   "execution_count": 22,
   "id": "dbef803e",
   "metadata": {},
   "outputs": [
    {
     "data": {
      "text/plain": [
       "'\\n                            Browse through a database of NHL team stats since 1990. Practice building a scraper that handles common website interface components.\\n                            Take a look at how pagination and search elements change the URL as your browse. Build a web scraper that can conduct searches and paginate through the results.\\n                        '"
      ]
     },
     "execution_count": 22,
     "metadata": {},
     "output_type": "execute_result"
    }
   ],
   "source": [
    "soup.find('p', class_ = 'lead').text"
   ]
  },
  {
   "cell_type": "code",
   "execution_count": 29,
   "id": "db4a6727",
   "metadata": {},
   "outputs": [
    {
     "data": {
      "text/plain": [
       "'Team Name'"
      ]
     },
     "execution_count": 29,
     "metadata": {},
     "output_type": "execute_result"
    }
   ],
   "source": [
    "soup.find('th').text.strip()"
   ]
  },
  {
   "cell_type": "code",
   "execution_count": null,
   "id": "2594f148",
   "metadata": {},
   "outputs": [],
   "source": []
  }
 ],
 "metadata": {
  "kernelspec": {
   "display_name": "Python 3 (ipykernel)",
   "language": "python",
   "name": "python3"
  },
  "language_info": {
   "codemirror_mode": {
    "name": "ipython",
    "version": 3
   },
   "file_extension": ".py",
   "mimetype": "text/x-python",
   "name": "python",
   "nbconvert_exporter": "python",
   "pygments_lexer": "ipython3",
   "version": "3.11.5"
  }
 },
 "nbformat": 4,
 "nbformat_minor": 5
}
