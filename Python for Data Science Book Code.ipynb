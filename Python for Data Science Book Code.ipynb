{
 "cells": [
  {
   "cell_type": "markdown",
   "id": "201f9c8f",
   "metadata": {},
   "source": [
    "# Chapter 2: Python Language Basics."
   ]
  },
  {
   "cell_type": "code",
   "execution_count": null,
   "id": "8a9c917d",
   "metadata": {},
   "outputs": [],
   "source": [
    "import numpy as np"
   ]
  },
  {
   "cell_type": "code",
   "execution_count": 2,
   "id": "73978eae",
   "metadata": {},
   "outputs": [],
   "source": [
    "np.*load*?"
   ]
  },
  {
   "cell_type": "code",
   "execution_count": 5,
   "id": "b3fdaa64",
   "metadata": {},
   "outputs": [],
   "source": [
    "a = [1,2,3]"
   ]
  },
  {
   "cell_type": "code",
   "execution_count": 7,
   "id": "3b7c9a4f",
   "metadata": {},
   "outputs": [],
   "source": [
    "b = a"
   ]
  },
  {
   "cell_type": "code",
   "execution_count": 8,
   "id": "6d58e295",
   "metadata": {},
   "outputs": [
    {
     "data": {
      "text/plain": [
       "[1, 2, 3]"
      ]
     },
     "execution_count": 8,
     "metadata": {},
     "output_type": "execute_result"
    }
   ],
   "source": [
    "b"
   ]
  },
  {
   "cell_type": "code",
   "execution_count": 9,
   "id": "b76a6831",
   "metadata": {},
   "outputs": [],
   "source": [
    "a.append(4)"
   ]
  },
  {
   "cell_type": "code",
   "execution_count": 10,
   "id": "ac82f61d",
   "metadata": {},
   "outputs": [
    {
     "data": {
      "text/plain": [
       "[1, 2, 3, 4]"
      ]
     },
     "execution_count": 10,
     "metadata": {},
     "output_type": "execute_result"
    }
   ],
   "source": [
    "b"
   ]
  },
  {
   "cell_type": "code",
   "execution_count": 15,
   "id": "2204227c",
   "metadata": {},
   "outputs": [],
   "source": [
    "data = [1,2,3]\n",
    "\n",
    "def append_element(some_list, element):\n",
    "    some_list.append(element)\n",
    "    \n",
    "append_element(data, 5)\n"
   ]
  },
  {
   "cell_type": "code",
   "execution_count": 16,
   "id": "537b6ecd",
   "metadata": {},
   "outputs": [
    {
     "data": {
      "text/plain": [
       "[1, 2, 3, 5]"
      ]
     },
     "execution_count": 16,
     "metadata": {},
     "output_type": "execute_result"
    }
   ],
   "source": [
    "data"
   ]
  },
  {
   "cell_type": "code",
   "execution_count": 19,
   "id": "fc53c7dd",
   "metadata": {},
   "outputs": [
    {
     "name": "stdout",
     "output_type": "stream",
     "text": [
      "a is <class 'float'>, b is <class 'int'>\n"
     ]
    }
   ],
   "source": [
    "a = 4.5\n",
    "b = 2\n",
    "\n",
    "print(f'a is {type(a)}, b is {type(b)}')"
   ]
  },
  {
   "cell_type": "code",
   "execution_count": 22,
   "id": "628d9d71",
   "metadata": {},
   "outputs": [
    {
     "data": {
      "text/plain": [
       "True"
      ]
     },
     "execution_count": 22,
     "metadata": {},
     "output_type": "execute_result"
    }
   ],
   "source": [
    "isinstance(a, (int,float))"
   ]
  },
  {
   "cell_type": "code",
   "execution_count": 23,
   "id": "68966f51",
   "metadata": {},
   "outputs": [],
   "source": [
    "a ='foo'"
   ]
  },
  {
   "cell_type": "code",
   "execution_count": 24,
   "id": "f7869106",
   "metadata": {},
   "outputs": [
    {
     "data": {
      "text/plain": [
       "'FOO'"
      ]
     },
     "execution_count": 24,
     "metadata": {},
     "output_type": "execute_result"
    }
   ],
   "source": [
    "a.#press tab"
   ]
  },
  {
   "cell_type": "code",
   "execution_count": 25,
   "id": "b50d50ae",
   "metadata": {},
   "outputs": [
    {
     "data": {
      "text/plain": [
       "<function str.split(sep=None, maxsplit=-1)>"
      ]
     },
     "execution_count": 25,
     "metadata": {},
     "output_type": "execute_result"
    }
   ],
   "source": [
    "getattr(a,'split')"
   ]
  },
  {
   "cell_type": "code",
   "execution_count": 26,
   "id": "b2f93f8a",
   "metadata": {},
   "outputs": [],
   "source": [
    "def isiterable(obj):\n",
    "    try:\n",
    "        \n",
    "        iter(obj)\n",
    "        return True\n",
    "    except TypeError: # not iterable\n",
    "        return False\n"
   ]
  },
  {
   "cell_type": "code",
   "execution_count": 27,
   "id": "e2184610",
   "metadata": {},
   "outputs": [
    {
     "data": {
      "text/plain": [
       "True"
      ]
     },
     "execution_count": 27,
     "metadata": {},
     "output_type": "execute_result"
    }
   ],
   "source": [
    "isiterable('a')"
   ]
  },
  {
   "cell_type": "code",
   "execution_count": 28,
   "id": "907746cf",
   "metadata": {},
   "outputs": [
    {
     "data": {
      "text/plain": [
       "False"
      ]
     },
     "execution_count": 28,
     "metadata": {},
     "output_type": "execute_result"
    }
   ],
   "source": [
    "isiterable(5)"
   ]
  },
  {
   "cell_type": "code",
   "execution_count": 29,
   "id": "4f584432",
   "metadata": {},
   "outputs": [
    {
     "data": {
      "text/plain": [
       "True"
      ]
     },
     "execution_count": 29,
     "metadata": {},
     "output_type": "execute_result"
    }
   ],
   "source": [
    "isiterable([1,2,3])"
   ]
  },
  {
   "cell_type": "code",
   "execution_count": 33,
   "id": "0267346d",
   "metadata": {},
   "outputs": [],
   "source": [
    "a = True\n",
    "b = False\n"
   ]
  },
  {
   "cell_type": "code",
   "execution_count": 34,
   "id": "f2fbf6f6",
   "metadata": {},
   "outputs": [
    {
     "data": {
      "text/plain": [
       "False"
      ]
     },
     "execution_count": 34,
     "metadata": {},
     "output_type": "execute_result"
    }
   ],
   "source": [
    "a and b"
   ]
  },
  {
   "cell_type": "code",
   "execution_count": 35,
   "id": "4ba7bb71",
   "metadata": {},
   "outputs": [
    {
     "data": {
      "text/plain": [
       "True"
      ]
     },
     "execution_count": 35,
     "metadata": {},
     "output_type": "execute_result"
    }
   ],
   "source": [
    "a ^ b"
   ]
  },
  {
   "cell_type": "code",
   "execution_count": 38,
   "id": "366c662d",
   "metadata": {},
   "outputs": [
    {
     "data": {
      "text/plain": [
       "False"
      ]
     },
     "execution_count": 38,
     "metadata": {},
     "output_type": "execute_result"
    }
   ],
   "source": [
    "c = True\n",
    "d = True\n",
    "c ^ d\n",
    "# ^ boolean = True when a or  b is True but not both!"
   ]
  },
  {
   "cell_type": "code",
   "execution_count": 41,
   "id": "3a1b400b",
   "metadata": {},
   "outputs": [],
   "source": [
    "a = 5"
   ]
  },
  {
   "cell_type": "code",
   "execution_count": 43,
   "id": "925063f5",
   "metadata": {},
   "outputs": [],
   "source": [
    "b = a"
   ]
  },
  {
   "cell_type": "code",
   "execution_count": 45,
   "id": "c57b5ce0",
   "metadata": {},
   "outputs": [
    {
     "data": {
      "text/plain": [
       "True"
      ]
     },
     "execution_count": 45,
     "metadata": {},
     "output_type": "execute_result"
    }
   ],
   "source": [
    "a is b # comes true when both a and b refer to same object\n",
    "# and vice versa with\n",
    "a is not b # if do not refer to same object then comes true"
   ]
  },
  {
   "cell_type": "code",
   "execution_count": 46,
   "id": "b5b2ff5c",
   "metadata": {},
   "outputs": [
    {
     "data": {
      "text/plain": [
       "False"
      ]
     },
     "execution_count": 46,
     "metadata": {},
     "output_type": "execute_result"
    }
   ],
   "source": [
    "a is not b"
   ]
  },
  {
   "cell_type": "code",
   "execution_count": 47,
   "id": "dbb64236",
   "metadata": {},
   "outputs": [
    {
     "data": {
      "text/plain": [
       "True"
      ]
     },
     "execution_count": 47,
     "metadata": {},
     "output_type": "execute_result"
    }
   ],
   "source": [
    "a == b"
   ]
  },
  {
   "cell_type": "code",
   "execution_count": 48,
   "id": "2dcc169e",
   "metadata": {},
   "outputs": [],
   "source": [
    "# multiline string\n",
    "c = \"\"\"\n",
    "    line 1\n",
    "    line 2\n",
    "    \"\"\""
   ]
  },
  {
   "cell_type": "code",
   "execution_count": 49,
   "id": "94f6daf0",
   "metadata": {},
   "outputs": [
    {
     "data": {
      "text/plain": [
       "3"
      ]
     },
     "execution_count": 49,
     "metadata": {},
     "output_type": "execute_result"
    }
   ],
   "source": [
    "c.count('\\n')\n"
   ]
  },
  {
   "cell_type": "code",
   "execution_count": 51,
   "id": "3b731b91",
   "metadata": {},
   "outputs": [
    {
     "ename": "TypeError",
     "evalue": "'str' object does not support item assignment",
     "output_type": "error",
     "traceback": [
      "\u001b[0;31m---------------------------------------------------------------------------\u001b[0m",
      "\u001b[0;31mTypeError\u001b[0m                                 Traceback (most recent call last)",
      "Cell \u001b[0;32mIn[51], line 2\u001b[0m\n\u001b[1;32m      1\u001b[0m a \u001b[38;5;241m=\u001b[39m \u001b[38;5;124m\"\u001b[39m\u001b[38;5;124m hello\u001b[39m\u001b[38;5;124m\"\u001b[39m\n\u001b[0;32m----> 2\u001b[0m a[\u001b[38;5;241m2\u001b[39m] \u001b[38;5;241m=\u001b[39m \u001b[38;5;124m'\u001b[39m\u001b[38;5;124mi\u001b[39m\u001b[38;5;124m'\u001b[39m\n",
      "\u001b[0;31mTypeError\u001b[0m: 'str' object does not support item assignment"
     ]
    }
   ],
   "source": [
    "a = \" hello\"\n",
    "a[2] = 'i'\n",
    "# immutable"
   ]
  },
  {
   "cell_type": "code",
   "execution_count": 52,
   "id": "ba54db40",
   "metadata": {},
   "outputs": [],
   "source": [
    "a = a.replace(\"hello\", \"bello\")\n",
    "#use function/method to create new string "
   ]
  },
  {
   "cell_type": "code",
   "execution_count": 53,
   "id": "df4a465f",
   "metadata": {},
   "outputs": [
    {
     "data": {
      "text/plain": [
       "' bello'"
      ]
     },
     "execution_count": 53,
     "metadata": {},
     "output_type": "execute_result"
    }
   ],
   "source": [
    "a"
   ]
  },
  {
   "cell_type": "code",
   "execution_count": 54,
   "id": "d2de2902",
   "metadata": {},
   "outputs": [
    {
     "data": {
      "text/plain": [
       "['p', 'y', 't', 'h', 'o', 'n']"
      ]
     },
     "execution_count": 54,
     "metadata": {},
     "output_type": "execute_result"
    }
   ],
   "source": [
    "# string is a sequence of unicode characters\n",
    "a = \"python\"\n",
    "list(a)"
   ]
  },
  {
   "cell_type": "code",
   "execution_count": 56,
   "id": "d313a265",
   "metadata": {},
   "outputs": [
    {
     "data": {
      "text/plain": [
       "'pyt'"
      ]
     },
     "execution_count": 56,
     "metadata": {},
     "output_type": "execute_result"
    }
   ],
   "source": [
    "a[:3] # slicing"
   ]
  },
  {
   "cell_type": "code",
   "execution_count": 57,
   "id": "14bf54f5",
   "metadata": {},
   "outputs": [
    {
     "name": "stdout",
     "output_type": "stream",
     "text": [
      "12\\13\n"
     ]
    }
   ],
   "source": [
    "s = \"12\\\\13\" # '\\' is an escape character\n",
    "print(s)"
   ]
  },
  {
   "cell_type": "code",
   "execution_count": 59,
   "id": "48faa1c2",
   "metadata": {},
   "outputs": [
    {
     "data": {
      "text/plain": [
       "'i am first i am 2nd'"
      ]
     },
     "execution_count": 59,
     "metadata": {},
     "output_type": "execute_result"
    }
   ],
   "source": [
    "# concatenate string\n",
    "a = \"i am first \"\n",
    "b = \"i am 2nd\"\n",
    "\n",
    "a + b"
   ]
  },
  {
   "cell_type": "code",
   "execution_count": 65,
   "id": "de869cc4",
   "metadata": {},
   "outputs": [
    {
     "data": {
      "text/plain": [
       "'88.46 saqib fayaz are worth US$121'"
      ]
     },
     "execution_count": 65,
     "metadata": {},
     "output_type": "execute_result"
    }
   ],
   "source": [
    "# string templating\n",
    "template = \"{0:.2f} {1:s} are worth US${2:d}\"\n",
    "# {0.2f} = format first argument as floating point with two decimal places\n",
    "# {1:s} = format 2nd argument as string\n",
    "# {2:d} = format 3rd argument as exact integer\n",
    "template.format(88.4645, \"saqib fayaz\", 121)\n"
   ]
  },
  {
   "cell_type": "code",
   "execution_count": 69,
   "id": "8b8518da",
   "metadata": {},
   "outputs": [
    {
     "data": {
      "text/plain": [
       "'10 INR is worth US$0.12428535918468805'"
      ]
     },
     "execution_count": 69,
     "metadata": {},
     "output_type": "execute_result"
    }
   ],
   "source": [
    "# f-strings\n",
    "\n",
    "amount = 10\n",
    "\n",
    "rate = 80.46\n",
    "\n",
    "currency = \"INR\"\n",
    "\n",
    "result = f\"{amount} {currency} is worth US${amount/rate}\"\n",
    "\n",
    "result"
   ]
  },
  {
   "cell_type": "code",
   "execution_count": 71,
   "id": "4a860015",
   "metadata": {},
   "outputs": [
    {
     "data": {
      "text/plain": [
       "'10 INR is worth US$0.12'"
      ]
     },
     "execution_count": 71,
     "metadata": {},
     "output_type": "execute_result"
    }
   ],
   "source": [
    "# adding a format specifier to make US$ more readable\n",
    "result = f\"{amount} {currency} is worth US${amount/rate:.2f}\"\n",
    "\n",
    "result"
   ]
  },
  {
   "cell_type": "code",
   "execution_count": 72,
   "id": "aac3064a",
   "metadata": {},
   "outputs": [
    {
     "data": {
      "text/plain": [
       "0"
      ]
     },
     "execution_count": 72,
     "metadata": {},
     "output_type": "execute_result"
    }
   ],
   "source": [
    "int(False)"
   ]
  },
  {
   "cell_type": "code",
   "execution_count": 73,
   "id": "2ea2c6aa",
   "metadata": {},
   "outputs": [
    {
     "data": {
      "text/plain": [
       "1"
      ]
     },
     "execution_count": 73,
     "metadata": {},
     "output_type": "execute_result"
    }
   ],
   "source": [
    "int(True)"
   ]
  },
  {
   "cell_type": "code",
   "execution_count": 74,
   "id": "69fc3fcd",
   "metadata": {},
   "outputs": [
    {
     "data": {
      "text/plain": [
       "False"
      ]
     },
     "execution_count": 74,
     "metadata": {},
     "output_type": "execute_result"
    }
   ],
   "source": [
    "a = True\n",
    "not(a)"
   ]
  },
  {
   "cell_type": "code",
   "execution_count": 75,
   "id": "a262e2fd",
   "metadata": {},
   "outputs": [
    {
     "data": {
      "text/plain": [
       "float"
      ]
     },
     "execution_count": 75,
     "metadata": {},
     "output_type": "execute_result"
    }
   ],
   "source": [
    "# Type casting\n",
    "s = 3.14159\n",
    "\n",
    "fval = float(s)\n",
    "type(fval)"
   ]
  },
  {
   "cell_type": "code",
   "execution_count": 76,
   "id": "6d78bc62",
   "metadata": {},
   "outputs": [
    {
     "data": {
      "text/plain": [
       "3"
      ]
     },
     "execution_count": 76,
     "metadata": {},
     "output_type": "execute_result"
    }
   ],
   "source": [
    "int(fval)"
   ]
  },
  {
   "cell_type": "code",
   "execution_count": 78,
   "id": "4d5b00b9",
   "metadata": {},
   "outputs": [
    {
     "data": {
      "text/plain": [
       "True"
      ]
     },
     "execution_count": 78,
     "metadata": {},
     "output_type": "execute_result"
    }
   ],
   "source": [
    "bool(fval)"
   ]
  },
  {
   "cell_type": "code",
   "execution_count": 79,
   "id": "bcf17ba8",
   "metadata": {},
   "outputs": [
    {
     "data": {
      "text/plain": [
       "False"
      ]
     },
     "execution_count": 79,
     "metadata": {},
     "output_type": "execute_result"
    }
   ],
   "source": [
    "bool(0)"
   ]
  },
  {
   "cell_type": "code",
   "execution_count": 80,
   "id": "0844652d",
   "metadata": {},
   "outputs": [
    {
     "data": {
      "text/plain": [
       "True"
      ]
     },
     "execution_count": 80,
     "metadata": {},
     "output_type": "execute_result"
    }
   ],
   "source": [
    "# None Type\n",
    "a = None\n",
    "\n",
    "a is None"
   ]
  },
  {
   "cell_type": "code",
   "execution_count": 83,
   "id": "87602ced",
   "metadata": {},
   "outputs": [
    {
     "data": {
      "text/plain": [
       "False"
      ]
     },
     "execution_count": 83,
     "metadata": {},
     "output_type": "execute_result"
    }
   ],
   "source": [
    "b = 5\n",
    "b is None\n"
   ]
  },
  {
   "cell_type": "code",
   "execution_count": 84,
   "id": "4fee6a3b",
   "metadata": {},
   "outputs": [
    {
     "data": {
      "text/plain": [
       "True"
      ]
     },
     "execution_count": 84,
     "metadata": {},
     "output_type": "execute_result"
    }
   ],
   "source": [
    "b is not None"
   ]
  },
  {
   "cell_type": "markdown",
   "id": "89888616",
   "metadata": {},
   "source": [
    "`None` is also a common default value for function arguments:"
   ]
  },
  {
   "cell_type": "code",
   "execution_count": 94,
   "id": "e1024ad0",
   "metadata": {},
   "outputs": [],
   "source": [
    "def add_and_maybe_multiply(a, b, c=None):\n",
    "    result = a + b\n",
    "    \n",
    "    if c is not None:\n",
    "        result = result * c\n",
    "    return result"
   ]
  },
  {
   "cell_type": "code",
   "execution_count": 95,
   "id": "a094a9eb",
   "metadata": {},
   "outputs": [
    {
     "data": {
      "text/plain": [
       "3"
      ]
     },
     "execution_count": 95,
     "metadata": {},
     "output_type": "execute_result"
    }
   ],
   "source": [
    "add_and_maybe_multiply(1,2)"
   ]
  },
  {
   "cell_type": "code",
   "execution_count": 96,
   "id": "86710629",
   "metadata": {},
   "outputs": [
    {
     "data": {
      "text/plain": [
       "9"
      ]
     },
     "execution_count": 96,
     "metadata": {},
     "output_type": "execute_result"
    }
   ],
   "source": [
    "add_and_maybe_multiply(1,2,3)"
   ]
  },
  {
   "cell_type": "code",
   "execution_count": 97,
   "id": "90f00059",
   "metadata": {},
   "outputs": [],
   "source": [
    "# Dates and times\n",
    "from datetime import datetime, date, time"
   ]
  },
  {
   "cell_type": "code",
   "execution_count": 98,
   "id": "554f9071",
   "metadata": {},
   "outputs": [],
   "source": [
    "dt = datetime(2011, 10, 29, 20, 30, 21)\n"
   ]
  },
  {
   "cell_type": "code",
   "execution_count": 99,
   "id": "a0f79502",
   "metadata": {},
   "outputs": [
    {
     "data": {
      "text/plain": [
       "2011"
      ]
     },
     "execution_count": 99,
     "metadata": {},
     "output_type": "execute_result"
    }
   ],
   "source": [
    "dt.year"
   ]
  },
  {
   "cell_type": "code",
   "execution_count": 100,
   "id": "115f0d16",
   "metadata": {},
   "outputs": [
    {
     "data": {
      "text/plain": [
       "10"
      ]
     },
     "execution_count": 100,
     "metadata": {},
     "output_type": "execute_result"
    }
   ],
   "source": [
    "dt.month"
   ]
  },
  {
   "cell_type": "code",
   "execution_count": 101,
   "id": "64e7b589",
   "metadata": {},
   "outputs": [
    {
     "data": {
      "text/plain": [
       "29"
      ]
     },
     "execution_count": 101,
     "metadata": {},
     "output_type": "execute_result"
    }
   ],
   "source": [
    "dt.day"
   ]
  },
  {
   "cell_type": "code",
   "execution_count": 132,
   "id": "3f5cf264",
   "metadata": {},
   "outputs": [
    {
     "data": {
      "text/plain": [
       "20"
      ]
     },
     "execution_count": 132,
     "metadata": {},
     "output_type": "execute_result"
    }
   ],
   "source": [
    "dt.hour"
   ]
  },
  {
   "cell_type": "code",
   "execution_count": 133,
   "id": "1a21d8ff",
   "metadata": {},
   "outputs": [
    {
     "data": {
      "text/plain": [
       "30"
      ]
     },
     "execution_count": 133,
     "metadata": {},
     "output_type": "execute_result"
    }
   ],
   "source": [
    "dt.minute"
   ]
  },
  {
   "cell_type": "code",
   "execution_count": 134,
   "id": "79faf3d5",
   "metadata": {},
   "outputs": [
    {
     "data": {
      "text/plain": [
       "21"
      ]
     },
     "execution_count": 134,
     "metadata": {},
     "output_type": "execute_result"
    }
   ],
   "source": [
    "dt.second"
   ]
  },
  {
   "cell_type": "code",
   "execution_count": 107,
   "id": "5377554c",
   "metadata": {},
   "outputs": [
    {
     "data": {
      "text/plain": [
       "datetime.date(2011, 10, 29)"
      ]
     },
     "execution_count": 107,
     "metadata": {},
     "output_type": "execute_result"
    }
   ],
   "source": [
    "# extract date object by calling methods on the datetime\n",
    "dt.date()"
   ]
  },
  {
   "cell_type": "code",
   "execution_count": 108,
   "id": "1de0b615",
   "metadata": {},
   "outputs": [
    {
     "data": {
      "text/plain": [
       "datetime.time(20, 30, 21)"
      ]
     },
     "execution_count": 108,
     "metadata": {},
     "output_type": "execute_result"
    }
   ],
   "source": [
    "# extract time object by calling methods on the datetime\n",
    "dt.time()"
   ]
  },
  {
   "cell_type": "code",
   "execution_count": 120,
   "id": "a25dc905",
   "metadata": {},
   "outputs": [
    {
     "data": {
      "text/plain": [
       "'2011-10-29 20:30'"
      ]
     },
     "execution_count": 120,
     "metadata": {},
     "output_type": "execute_result"
    }
   ],
   "source": [
    "# the strftime formats a datetime as string\n",
    "dt.strftime(\"%Y-%m-%d %H:%M\")"
   ]
  },
  {
   "cell_type": "code",
   "execution_count": 128,
   "id": "f3f1c774",
   "metadata": {},
   "outputs": [
    {
     "data": {
      "text/plain": [
       "datetime.datetime(2009, 11, 14, 0, 0)"
      ]
     },
     "execution_count": 128,
     "metadata": {},
     "output_type": "execute_result"
    }
   ],
   "source": [
    "# strip datetime out of strings\n",
    "datetime.strptime(\"20091114\", \"%Y%m%d\")"
   ]
  },
  {
   "cell_type": "code",
   "execution_count": 130,
   "id": "d4b947e0",
   "metadata": {},
   "outputs": [],
   "source": [
    "dt_hour = dt.replace(minute=0,second=0)"
   ]
  },
  {
   "cell_type": "code",
   "execution_count": 131,
   "id": "ecf8031b",
   "metadata": {},
   "outputs": [
    {
     "data": {
      "text/plain": [
       "datetime.datetime(2011, 10, 29, 20, 0)"
      ]
     },
     "execution_count": 131,
     "metadata": {},
     "output_type": "execute_result"
    }
   ],
   "source": [
    "dt_hour"
   ]
  },
  {
   "cell_type": "code",
   "execution_count": 135,
   "id": "f980fffa",
   "metadata": {},
   "outputs": [
    {
     "data": {
      "text/plain": [
       "datetime.datetime(2011, 10, 29, 20, 30, 21)"
      ]
     },
     "execution_count": 135,
     "metadata": {},
     "output_type": "execute_result"
    }
   ],
   "source": [
    "dt"
   ]
  },
  {
   "cell_type": "markdown",
   "id": "a75d2c81",
   "metadata": {},
   "source": [
    "The difference of two `datetime` objects produces a `datetime.timedelta` type:"
   ]
  },
  {
   "cell_type": "code",
   "execution_count": 136,
   "id": "4a46a8ee",
   "metadata": {},
   "outputs": [],
   "source": [
    "dt2 = datetime(2011, 11, 15, 22, 30)"
   ]
  },
  {
   "cell_type": "code",
   "execution_count": 138,
   "id": "bed08b21",
   "metadata": {},
   "outputs": [],
   "source": [
    "delta = dt2 - dt"
   ]
  },
  {
   "cell_type": "code",
   "execution_count": 139,
   "id": "55288817",
   "metadata": {},
   "outputs": [
    {
     "data": {
      "text/plain": [
       "datetime.timedelta(days=17, seconds=7179)"
      ]
     },
     "execution_count": 139,
     "metadata": {},
     "output_type": "execute_result"
    }
   ],
   "source": [
    "delta"
   ]
  },
  {
   "cell_type": "code",
   "execution_count": 140,
   "id": "a4395138",
   "metadata": {},
   "outputs": [
    {
     "data": {
      "text/plain": [
       "datetime.timedelta"
      ]
     },
     "execution_count": 140,
     "metadata": {},
     "output_type": "execute_result"
    }
   ],
   "source": [
    "type(delta)"
   ]
  },
  {
   "cell_type": "code",
   "execution_count": 141,
   "id": "80b5425f",
   "metadata": {},
   "outputs": [
    {
     "data": {
      "text/plain": [
       "datetime.datetime(2011, 10, 29, 20, 30, 21)"
      ]
     },
     "execution_count": 141,
     "metadata": {},
     "output_type": "execute_result"
    }
   ],
   "source": [
    "dt"
   ]
  },
  {
   "cell_type": "code",
   "execution_count": 142,
   "id": "5ca96648",
   "metadata": {},
   "outputs": [
    {
     "data": {
      "text/plain": [
       "datetime.datetime(2011, 11, 15, 22, 30)"
      ]
     },
     "execution_count": 142,
     "metadata": {},
     "output_type": "execute_result"
    }
   ],
   "source": [
    "# Adding a timedelta to a datetime produces a new shifted datetime:\n",
    "dt + delta"
   ]
  },
  {
   "cell_type": "code",
   "execution_count": 145,
   "id": "c6e1d8dc",
   "metadata": {},
   "outputs": [
    {
     "name": "stdout",
     "output_type": "stream",
     "text": [
      "Made It!\n"
     ]
    }
   ],
   "source": [
    "# Control Flow\n",
    "\n",
    "a = 5; b = 7\n",
    "c = 8; d = 4\n",
    "\n",
    "if a < b or c > d:\n",
    "    print(\"Made It!\")"
   ]
  },
  {
   "cell_type": "markdown",
   "id": "31b3f9f8",
   "metadata": {},
   "source": [
    "In this example , the comparison `c > d` never gets evaluated because the first comparison was `True`"
   ]
  },
  {
   "cell_type": "code",
   "execution_count": 146,
   "id": "ad952474",
   "metadata": {},
   "outputs": [],
   "source": [
    "#for loops"
   ]
  },
  {
   "cell_type": "markdown",
   "id": "2530ff71",
   "metadata": {},
   "source": [
    "`for` loops are for iterating over a collection (like a `list` or `tuple` or an `iterator`. "
   ]
  },
  {
   "cell_type": "code",
   "execution_count": 157,
   "id": "3c6cd203",
   "metadata": {},
   "outputs": [
    {
     "name": "stdout",
     "output_type": "stream",
     "text": [
      "iterated 3 times\n",
      "iterated 3 times\n",
      "iterated 3 times\n"
     ]
    }
   ],
   "source": [
    "collection = [1,2,3]\n",
    "for value in collection:\n",
    "    print(\"iterated 3 times\")"
   ]
  },
  {
   "cell_type": "markdown",
   "id": "2e7b1cae",
   "metadata": {},
   "source": [
    "you can advance a `for` loop to the next itertion, skipping the remainder of the block, using the `continue` keyword."
   ]
  },
  {
   "cell_type": "code",
   "execution_count": 158,
   "id": "3cb139c0",
   "metadata": {},
   "outputs": [
    {
     "data": {
      "text/plain": [
       "12"
      ]
     },
     "execution_count": 158,
     "metadata": {},
     "output_type": "execute_result"
    }
   ],
   "source": [
    "sequence = [ 1 ,2, None, 4, None, 5]\n",
    "total = 0\n",
    "for value in sequence:\n",
    "    if value is None:\n",
    "        continue\n",
    "    total += value\n",
    "total\n",
    "# here we skipped the None Value"
   ]
  },
  {
   "cell_type": "markdown",
   "id": "769fa70f",
   "metadata": {},
   "source": [
    "A `for` loop can be **exited** altogether with the `break` keyword."
   ]
  },
  {
   "cell_type": "code",
   "execution_count": 159,
   "id": "492773e3",
   "metadata": {},
   "outputs": [
    {
     "data": {
      "text/plain": [
       "13"
      ]
     },
     "execution_count": 159,
     "metadata": {},
     "output_type": "execute_result"
    }
   ],
   "source": [
    "sequence = [1, 2, 0, 4, 6, 5, 2, 1]\n",
    "total_until_5 = 0\n",
    "for value in sequence:\n",
    "    if value == 5:\n",
    "        break\n",
    "    total_until_5 += value\n",
    "total_until_5"
   ]
  },
  {
   "cell_type": "markdown",
   "id": "ba3a0a7f",
   "metadata": {},
   "source": [
    "The `break` keyword only terminates the innermost `for` loop; any outer `for` loops will continue to **run**:"
   ]
  },
  {
   "cell_type": "code",
   "execution_count": 4,
   "id": "5f41c229",
   "metadata": {},
   "outputs": [
    {
     "name": "stdout",
     "output_type": "stream",
     "text": [
      "(0, 0)\n",
      "(1, 0)\n",
      "(1, 1)\n",
      "(2, 0)\n",
      "(2, 1)\n",
      "(2, 2)\n",
      "(3, 0)\n",
      "(3, 1)\n",
      "(3, 2)\n",
      "(3, 3)\n"
     ]
    }
   ],
   "source": [
    "for i in range(4):\n",
    "    for j in range(4):\n",
    "        if j > i:\n",
    "            break\n",
    "        print((i, j))"
   ]
  },
  {
   "cell_type": "code",
   "execution_count": 5,
   "id": "34396d31",
   "metadata": {},
   "outputs": [],
   "source": [
    "# While loops"
   ]
  },
  {
   "cell_type": "markdown",
   "id": "2e72bc06",
   "metadata": {},
   "source": [
    "A `while` **loop** specifies a **condition** and a block of code that is to be executed **until** the **condition** evaluates to `False` or the **loop** is explicitely ended with `break`:"
   ]
  },
  {
   "cell_type": "code",
   "execution_count": 16,
   "id": "f690ae87",
   "metadata": {},
   "outputs": [
    {
     "data": {
      "text/plain": [
       "504"
      ]
     },
     "execution_count": 16,
     "metadata": {},
     "output_type": "execute_result"
    }
   ],
   "source": [
    "x = 256\n",
    "total = 0\n",
    "\n",
    "while x > 0:\n",
    "    if total > 500:\n",
    "        break\n",
    "    total += x\n",
    "    #print(total, x) used for debugging\n",
    "    \n",
    "    x = x // 2\n",
    "total\n"
   ]
  },
  {
   "cell_type": "code",
   "execution_count": 8,
   "id": "d4601972",
   "metadata": {},
   "outputs": [
    {
     "data": {
      "text/plain": [
       "4"
      ]
     },
     "execution_count": 8,
     "metadata": {},
     "output_type": "execute_result"
    }
   ],
   "source": [
    "x"
   ]
  },
  {
   "cell_type": "code",
   "execution_count": 18,
   "id": "324a6a06",
   "metadata": {},
   "outputs": [],
   "source": [
    "# range"
   ]
  },
  {
   "cell_type": "markdown",
   "id": "c02b03fd",
   "metadata": {},
   "source": [
    "the `range` function generates a sequence of evenly spaced integers:"
   ]
  },
  {
   "cell_type": "code",
   "execution_count": 17,
   "id": "c0aef6bd",
   "metadata": {},
   "outputs": [
    {
     "data": {
      "text/plain": [
       "range(0, 10)"
      ]
     },
     "execution_count": 17,
     "metadata": {},
     "output_type": "execute_result"
    }
   ],
   "source": [
    "range(10)"
   ]
  },
  {
   "cell_type": "code",
   "execution_count": 19,
   "id": "ece74b48",
   "metadata": {},
   "outputs": [
    {
     "data": {
      "text/plain": [
       "[0, 1, 2, 3, 4, 5, 6, 7, 8, 9]"
      ]
     },
     "execution_count": 19,
     "metadata": {},
     "output_type": "execute_result"
    }
   ],
   "source": [
    "list(range(10))"
   ]
  },
  {
   "cell_type": "markdown",
   "id": "5e1effe7",
   "metadata": {},
   "source": [
    "A `start`, and `end`, and `step`(which may be negative) can be given: (`range`(`start`,`end`,`step`))"
   ]
  },
  {
   "cell_type": "code",
   "execution_count": 20,
   "id": "4392bd3c",
   "metadata": {},
   "outputs": [
    {
     "data": {
      "text/plain": [
       "[0, 2, 4, 6, 8, 10, 12, 14, 16, 18]"
      ]
     },
     "execution_count": 20,
     "metadata": {},
     "output_type": "execute_result"
    }
   ],
   "source": [
    "list(range(0,20,2))"
   ]
  },
  {
   "cell_type": "code",
   "execution_count": 21,
   "id": "67f6b74b",
   "metadata": {},
   "outputs": [
    {
     "data": {
      "text/plain": [
       "[5, 4, 3, 2, 1]"
      ]
     },
     "execution_count": 21,
     "metadata": {},
     "output_type": "execute_result"
    }
   ],
   "source": [
    "list(range(5,0,-1))"
   ]
  },
  {
   "cell_type": "code",
   "execution_count": 25,
   "id": "5034da22",
   "metadata": {},
   "outputs": [
    {
     "name": "stdout",
     "output_type": "stream",
     "text": [
      "element 0: 1\n",
      "element 1: 2\n",
      "element 2: 3\n",
      "element 3: 4\n"
     ]
    }
   ],
   "source": [
    "# common usecase of range\n",
    "\n",
    "seq = [1,2,3,4]\n",
    "#print(len(seq))\n",
    "for i in range(len(seq)):\n",
    "    #print(i)\n",
    "    print(f\"element {i}: {seq[i]}\")"
   ]
  },
  {
   "cell_type": "code",
   "execution_count": 29,
   "id": "7cd04bc2",
   "metadata": {},
   "outputs": [
    {
     "data": {
      "text/plain": [
       "2333316668"
      ]
     },
     "execution_count": 29,
     "metadata": {},
     "output_type": "execute_result"
    }
   ],
   "source": [
    "# This snippet sums all numbers from 0 to 99,999 that are multiples of 3 or 5:\n",
    "total = 0\n",
    "for i in range(100000):\n",
    "    # % is the modulo operator\n",
    "    if i % 3 == 0 or i % 5 == 0:\n",
    "        total += i\n",
    "total"
   ]
  },
  {
   "cell_type": "code",
   "execution_count": null,
   "id": "51058e8d",
   "metadata": {},
   "outputs": [],
   "source": []
  },
  {
   "cell_type": "markdown",
   "id": "44ac40f5",
   "metadata": {},
   "source": [
    "# Chapter 3: Built-In Data Structures, Functions, and Files."
   ]
  },
  {
   "cell_type": "markdown",
   "id": "76717381",
   "metadata": {},
   "source": [
    " Data Structures and Sequences\n"
   ]
  },
  {
   "cell_type": "markdown",
   "id": "382da716",
   "metadata": {},
   "source": [
    "A `tuple` is a fixed-length, immutable sequence of Python `objects` which, once assigned, cannot be changed."
   ]
  },
  {
   "cell_type": "code",
   "execution_count": 31,
   "id": "4d1f91b8",
   "metadata": {},
   "outputs": [],
   "source": [
    "tup = (4, 5, 6)"
   ]
  },
  {
   "cell_type": "code",
   "execution_count": 32,
   "id": "047ee9a0",
   "metadata": {},
   "outputs": [
    {
     "data": {
      "text/plain": [
       "(4, 5, 6)"
      ]
     },
     "execution_count": 32,
     "metadata": {},
     "output_type": "execute_result"
    }
   ],
   "source": [
    "tup"
   ]
  },
  {
   "cell_type": "code",
   "execution_count": 33,
   "id": "f42fa552",
   "metadata": {},
   "outputs": [
    {
     "data": {
      "text/plain": [
       "(4, 5, 6)"
      ]
     },
     "execution_count": 33,
     "metadata": {},
     "output_type": "execute_result"
    }
   ],
   "source": [
    "# or we could have written it without parentheses.\n",
    "tup = 4, 5, 6\n",
    "tup"
   ]
  },
  {
   "cell_type": "code",
   "execution_count": 34,
   "id": "e38960a1",
   "metadata": {},
   "outputs": [],
   "source": [
    "# you can convert any sequence or iterator to a tuple by invoking tuple"
   ]
  },
  {
   "cell_type": "code",
   "execution_count": 35,
   "id": "ddc29280",
   "metadata": {},
   "outputs": [
    {
     "data": {
      "text/plain": [
       "(4, 5, 6)"
      ]
     },
     "execution_count": 35,
     "metadata": {},
     "output_type": "execute_result"
    }
   ],
   "source": [
    "tuple([4,5,6])"
   ]
  },
  {
   "cell_type": "code",
   "execution_count": 36,
   "id": "07235dff",
   "metadata": {},
   "outputs": [
    {
     "data": {
      "text/plain": [
       "('s', 't', 'r', 'i', 'n', 'g')"
      ]
     },
     "execution_count": 36,
     "metadata": {},
     "output_type": "execute_result"
    }
   ],
   "source": [
    "tup = tuple('string')\n",
    "tup"
   ]
  },
  {
   "cell_type": "code",
   "execution_count": 37,
   "id": "29d359ac",
   "metadata": {},
   "outputs": [
    {
     "data": {
      "text/plain": [
       "'s'"
      ]
     },
     "execution_count": 37,
     "metadata": {},
     "output_type": "execute_result"
    }
   ],
   "source": [
    "tup[0]"
   ]
  },
  {
   "cell_type": "code",
   "execution_count": 38,
   "id": "52efd503",
   "metadata": {},
   "outputs": [],
   "source": [
    "nested_tuple = (4, 5, 6), (7, 8)"
   ]
  },
  {
   "cell_type": "code",
   "execution_count": 39,
   "id": "d787a903",
   "metadata": {},
   "outputs": [
    {
     "data": {
      "text/plain": [
       "((4, 5, 6), (7, 8))"
      ]
     },
     "execution_count": 39,
     "metadata": {},
     "output_type": "execute_result"
    }
   ],
   "source": [
    "nested_tuple"
   ]
  },
  {
   "cell_type": "code",
   "execution_count": 40,
   "id": "05086505",
   "metadata": {},
   "outputs": [
    {
     "data": {
      "text/plain": [
       "(4, 5, 6)"
      ]
     },
     "execution_count": 40,
     "metadata": {},
     "output_type": "execute_result"
    }
   ],
   "source": [
    "nested_tuple[0]"
   ]
  },
  {
   "cell_type": "code",
   "execution_count": 42,
   "id": "a82a3d31",
   "metadata": {},
   "outputs": [
    {
     "data": {
      "text/plain": [
       "(7, 8)"
      ]
     },
     "execution_count": 42,
     "metadata": {},
     "output_type": "execute_result"
    }
   ],
   "source": [
    "nested_tuple[1]"
   ]
  },
  {
   "cell_type": "code",
   "execution_count": 43,
   "id": "40cae231",
   "metadata": {},
   "outputs": [
    {
     "data": {
      "text/plain": [
       "8"
      ]
     },
     "execution_count": 43,
     "metadata": {},
     "output_type": "execute_result"
    }
   ],
   "source": [
    "nested_tuple[1][1]"
   ]
  },
  {
   "cell_type": "markdown",
   "id": "446174ef",
   "metadata": {},
   "source": [
    "**Note** `tuple` itself is not mutable, but! if the `object` inside the `tuple` is mutable then you can `append` that particular `object`"
   ]
  },
  {
   "cell_type": "code",
   "execution_count": 48,
   "id": "9c4286f7",
   "metadata": {},
   "outputs": [
    {
     "ename": "TypeError",
     "evalue": "'tuple' object does not support item assignment",
     "output_type": "error",
     "traceback": [
      "\u001b[0;31m---------------------------------------------------------------------------\u001b[0m",
      "\u001b[0;31mTypeError\u001b[0m                                 Traceback (most recent call last)",
      "Cell \u001b[0;32mIn[48], line 3\u001b[0m\n\u001b[1;32m      1\u001b[0m \u001b[38;5;66;03m# eg\u001b[39;00m\n\u001b[1;32m      2\u001b[0m tup \u001b[38;5;241m=\u001b[39m (\u001b[38;5;124m'\u001b[39m\u001b[38;5;124mfoo\u001b[39m\u001b[38;5;124m'\u001b[39m, [\u001b[38;5;241m1\u001b[39m,\u001b[38;5;241m2\u001b[39m], \u001b[38;5;28;01mTrue\u001b[39;00m)\n\u001b[0;32m----> 3\u001b[0m tup[\u001b[38;5;241m2\u001b[39m] \u001b[38;5;241m=\u001b[39m \u001b[38;5;28;01mFalse\u001b[39;00m\n",
      "\u001b[0;31mTypeError\u001b[0m: 'tuple' object does not support item assignment"
     ]
    }
   ],
   "source": [
    "# eg\n",
    "tup = ('foo', [1,2], True)\n",
    "tup[2] = False # it will show error"
   ]
  },
  {
   "cell_type": "code",
   "execution_count": 49,
   "id": "3636ace3",
   "metadata": {},
   "outputs": [
    {
     "data": {
      "text/plain": [
       "('foo', [1, 2, 3], True)"
      ]
     },
     "execution_count": 49,
     "metadata": {},
     "output_type": "execute_result"
    }
   ],
   "source": [
    "# but \n",
    "tup[1].append(3)\n",
    "# it will execute because the object itself is appendable\n",
    "tup"
   ]
  },
  {
   "cell_type": "code",
   "execution_count": 51,
   "id": "326bf934",
   "metadata": {},
   "outputs": [
    {
     "data": {
      "text/plain": [
       "(1, 2, 3, 'a', 'b', 4, 'd', 5, 'e')"
      ]
     },
     "execution_count": 51,
     "metadata": {},
     "output_type": "execute_result"
    }
   ],
   "source": [
    "# we can concatenate a tuple too\n",
    "(1, 2, 3) + ('a', 'b', 4) + ('d', 5, 'e')"
   ]
  },
  {
   "cell_type": "code",
   "execution_count": 56,
   "id": "64e0f97b",
   "metadata": {},
   "outputs": [
    {
     "data": {
      "text/plain": [
       "(1, 2, 3, 1, 2, 3, 1, 2, 3)"
      ]
     },
     "execution_count": 56,
     "metadata": {},
     "output_type": "execute_result"
    }
   ],
   "source": [
    "# multiplying a tuple with integer copies the tuple itself\n",
    "\n",
    "(1,2,3) * 3"
   ]
  },
  {
   "cell_type": "markdown",
   "id": "e1a55c17",
   "metadata": {},
   "source": [
    "**Note**: objects themselves are not copied, only the refrences to them."
   ]
  },
  {
   "cell_type": "code",
   "execution_count": 57,
   "id": "2a67c0c2",
   "metadata": {},
   "outputs": [
    {
     "data": {
      "text/plain": [
       "3"
      ]
     },
     "execution_count": 57,
     "metadata": {},
     "output_type": "execute_result"
    }
   ],
   "source": [
    "# unpacking tuples\n",
    "tup = (1, 2, 3)\n",
    "a, b, c = tup\n",
    "c"
   ]
  },
  {
   "cell_type": "code",
   "execution_count": 60,
   "id": "b97842e7",
   "metadata": {},
   "outputs": [],
   "source": [
    "tup = (1, 2, (3, 4))\n",
    "a, b, (c, d) = tup"
   ]
  },
  {
   "cell_type": "code",
   "execution_count": 61,
   "id": "dfd080fe",
   "metadata": {},
   "outputs": [
    {
     "data": {
      "text/plain": [
       "3"
      ]
     },
     "execution_count": 61,
     "metadata": {},
     "output_type": "execute_result"
    }
   ],
   "source": [
    "c"
   ]
  },
  {
   "cell_type": "markdown",
   "id": "8f9d0fa7",
   "metadata": {},
   "source": [
    "usning this functionality you can easily swap variable names, a task that in many languages looks like:\n"
   ]
  },
  {
   "cell_type": "code",
   "execution_count": 62,
   "id": "c74f1a2c",
   "metadata": {},
   "outputs": [],
   "source": [
    "tmp = a\n",
    "a = b\n",
    "b = tmp"
   ]
  },
  {
   "cell_type": "code",
   "execution_count": 64,
   "id": "fb5749b2",
   "metadata": {},
   "outputs": [],
   "source": [
    "# but in python , the swap can be done like this.\n",
    "a, b = 1, 2\n"
   ]
  },
  {
   "cell_type": "code",
   "execution_count": 65,
   "id": "60b1cf76",
   "metadata": {},
   "outputs": [
    {
     "data": {
      "text/plain": [
       "1"
      ]
     },
     "execution_count": 65,
     "metadata": {},
     "output_type": "execute_result"
    }
   ],
   "source": [
    "a"
   ]
  },
  {
   "cell_type": "code",
   "execution_count": 66,
   "id": "fc91cf99",
   "metadata": {},
   "outputs": [
    {
     "data": {
      "text/plain": [
       "2"
      ]
     },
     "execution_count": 66,
     "metadata": {},
     "output_type": "execute_result"
    }
   ],
   "source": [
    "b"
   ]
  },
  {
   "cell_type": "code",
   "execution_count": 67,
   "id": "ace9d542",
   "metadata": {},
   "outputs": [],
   "source": [
    "b, a = a, b"
   ]
  },
  {
   "cell_type": "code",
   "execution_count": 68,
   "id": "1abb49e6",
   "metadata": {},
   "outputs": [
    {
     "data": {
      "text/plain": [
       "2"
      ]
     },
     "execution_count": 68,
     "metadata": {},
     "output_type": "execute_result"
    }
   ],
   "source": [
    "a"
   ]
  },
  {
   "cell_type": "code",
   "execution_count": 69,
   "id": "5e0d258f",
   "metadata": {},
   "outputs": [
    {
     "data": {
      "text/plain": [
       "1"
      ]
     },
     "execution_count": 69,
     "metadata": {},
     "output_type": "execute_result"
    }
   ],
   "source": [
    "b"
   ]
  },
  {
   "cell_type": "markdown",
   "id": "2914ebcf",
   "metadata": {},
   "source": [
    "A common use of variable unpacking is iterating over sequences of tuples or lists:"
   ]
  },
  {
   "cell_type": "code",
   "execution_count": 75,
   "id": "fb8f3f07",
   "metadata": {},
   "outputs": [
    {
     "name": "stdout",
     "output_type": "stream",
     "text": [
      "a =1, b=2, c=3\n",
      "a =4, b=5, c=6\n",
      "a =7, b=8, c=9\n"
     ]
    }
   ],
   "source": [
    "seq = [(1, 2, 3), (4, 5, 6), (7, 8, 9)]\n",
    "for a, b, c in seq:\n",
    "    print (f'a ={a}, b={b}, c={c}')"
   ]
  },
  {
   "cell_type": "code",
   "execution_count": 76,
   "id": "50f776d5",
   "metadata": {},
   "outputs": [],
   "source": [
    "values = (1, 2, 3, 4, 5)\n"
   ]
  },
  {
   "cell_type": "code",
   "execution_count": 83,
   "id": "c9658423",
   "metadata": {},
   "outputs": [],
   "source": [
    "a, b, *rest = values"
   ]
  },
  {
   "cell_type": "code",
   "execution_count": 84,
   "id": "47580eed",
   "metadata": {},
   "outputs": [
    {
     "data": {
      "text/plain": [
       "1"
      ]
     },
     "execution_count": 84,
     "metadata": {},
     "output_type": "execute_result"
    }
   ],
   "source": [
    "a"
   ]
  },
  {
   "cell_type": "code",
   "execution_count": 85,
   "id": "0a7177fe",
   "metadata": {},
   "outputs": [
    {
     "data": {
      "text/plain": [
       "2"
      ]
     },
     "execution_count": 85,
     "metadata": {},
     "output_type": "execute_result"
    }
   ],
   "source": [
    "b"
   ]
  },
  {
   "cell_type": "code",
   "execution_count": 87,
   "id": "39c79d39",
   "metadata": {},
   "outputs": [
    {
     "data": {
      "text/plain": [
       "[3, 4, 5]"
      ]
     },
     "execution_count": 87,
     "metadata": {},
     "output_type": "execute_result"
    }
   ],
   "source": [
    "rest"
   ]
  },
  {
   "cell_type": "code",
   "execution_count": 88,
   "id": "aa459612",
   "metadata": {},
   "outputs": [],
   "source": [
    "a = (1,2,2,2,2,3,3,2,3,4,2,4,2,44,4,2,2,42,4453,2,2)"
   ]
  },
  {
   "cell_type": "code",
   "execution_count": 89,
   "id": "0934260a",
   "metadata": {},
   "outputs": [
    {
     "data": {
      "text/plain": [
       "11"
      ]
     },
     "execution_count": 89,
     "metadata": {},
     "output_type": "execute_result"
    }
   ],
   "source": [
    "a.count(2)"
   ]
  },
  {
   "cell_type": "markdown",
   "id": "87564925",
   "metadata": {},
   "source": [
    "**List** In contrast with tuples, lists are variable length and their contents can be **modified** in place. `lists` are **mutable** . You can define them using brackets **[ ]** or using the `list` type function:"
   ]
  },
  {
   "cell_type": "code",
   "execution_count": 90,
   "id": "5e1857d3",
   "metadata": {},
   "outputs": [],
   "source": [
    "a_list = [2, 3, 4, None]"
   ]
  },
  {
   "cell_type": "code",
   "execution_count": 91,
   "id": "c43d1c49",
   "metadata": {},
   "outputs": [],
   "source": [
    "tup = ('a', 'b', 'c')"
   ]
  },
  {
   "cell_type": "code",
   "execution_count": 92,
   "id": "f85263b9",
   "metadata": {},
   "outputs": [],
   "source": [
    "b_list = list(tup)"
   ]
  },
  {
   "cell_type": "code",
   "execution_count": 93,
   "id": "1ac485e0",
   "metadata": {},
   "outputs": [
    {
     "data": {
      "text/plain": [
       "['a', 'b', 'c']"
      ]
     },
     "execution_count": 93,
     "metadata": {},
     "output_type": "execute_result"
    }
   ],
   "source": [
    "b_list"
   ]
  },
  {
   "cell_type": "code",
   "execution_count": 95,
   "id": "a3a88662",
   "metadata": {},
   "outputs": [],
   "source": [
    "b_list[1] = 'X'"
   ]
  },
  {
   "cell_type": "code",
   "execution_count": 96,
   "id": "a6a22466",
   "metadata": {},
   "outputs": [
    {
     "data": {
      "text/plain": [
       "['a', 'X', 'c']"
      ]
     },
     "execution_count": 96,
     "metadata": {},
     "output_type": "execute_result"
    }
   ],
   "source": [
    "b_list"
   ]
  },
  {
   "cell_type": "markdown",
   "id": "a171eb75",
   "metadata": {},
   "source": [
    "`list` and `tuple` are semantically similar (though `tuple` cannot be modified) and can be used interchangeably in many functions."
   ]
  },
  {
   "cell_type": "code",
   "execution_count": 97,
   "id": "68eb0684",
   "metadata": {},
   "outputs": [],
   "source": [
    "# eg \n",
    "gen = range(10)"
   ]
  },
  {
   "cell_type": "code",
   "execution_count": 99,
   "id": "79a5ebf8",
   "metadata": {},
   "outputs": [
    {
     "data": {
      "text/plain": [
       "range(0, 10)"
      ]
     },
     "execution_count": 99,
     "metadata": {},
     "output_type": "execute_result"
    }
   ],
   "source": [
    "gen"
   ]
  },
  {
   "cell_type": "code",
   "execution_count": 100,
   "id": "623633e2",
   "metadata": {},
   "outputs": [
    {
     "data": {
      "text/plain": [
       "[0, 1, 2, 3, 4, 5, 6, 7, 8, 9]"
      ]
     },
     "execution_count": 100,
     "metadata": {},
     "output_type": "execute_result"
    }
   ],
   "source": [
    "list(gen)"
   ]
  },
  {
   "cell_type": "code",
   "execution_count": 103,
   "id": "d2e21cea",
   "metadata": {},
   "outputs": [],
   "source": [
    "# adding and removing elements in a list\n",
    "b_list.append('d') #adds value at the end"
   ]
  },
  {
   "cell_type": "code",
   "execution_count": 104,
   "id": "403aa949",
   "metadata": {},
   "outputs": [
    {
     "data": {
      "text/plain": [
       "['a', 'X', 'c', 'd', 'd']"
      ]
     },
     "execution_count": 104,
     "metadata": {},
     "output_type": "execute_result"
    }
   ],
   "source": [
    "b_list"
   ]
  },
  {
   "cell_type": "code",
   "execution_count": 105,
   "id": "0459654f",
   "metadata": {},
   "outputs": [],
   "source": [
    "# using insert to ad value in a list at a specific place\n",
    "b_list.insert(4, 'e')"
   ]
  },
  {
   "cell_type": "code",
   "execution_count": 106,
   "id": "f2dc0f39",
   "metadata": {},
   "outputs": [
    {
     "data": {
      "text/plain": [
       "['a', 'X', 'c', 'd', 'e', 'd']"
      ]
     },
     "execution_count": 106,
     "metadata": {},
     "output_type": "execute_result"
    }
   ],
   "source": [
    "b_list"
   ]
  },
  {
   "cell_type": "code",
   "execution_count": 109,
   "id": "14f0d082",
   "metadata": {},
   "outputs": [
    {
     "data": {
      "text/plain": [
       "'d'"
      ]
     },
     "execution_count": 109,
     "metadata": {},
     "output_type": "execute_result"
    }
   ],
   "source": [
    "b_list.pop(5) # removes by location"
   ]
  },
  {
   "cell_type": "code",
   "execution_count": 110,
   "id": "3467f7eb",
   "metadata": {},
   "outputs": [
    {
     "data": {
      "text/plain": [
       "['a', 'X', 'c', 'd', 'e']"
      ]
     },
     "execution_count": 110,
     "metadata": {},
     "output_type": "execute_result"
    }
   ],
   "source": [
    "b_list"
   ]
  },
  {
   "cell_type": "code",
   "execution_count": 111,
   "id": "0d717973",
   "metadata": {},
   "outputs": [],
   "source": [
    "b_list.remove(\"X\")"
   ]
  },
  {
   "cell_type": "code",
   "execution_count": 113,
   "id": "92e55a64",
   "metadata": {},
   "outputs": [
    {
     "data": {
      "text/plain": [
       "['a', 'c', 'd', 'e']"
      ]
     },
     "execution_count": 113,
     "metadata": {},
     "output_type": "execute_result"
    }
   ],
   "source": [
    "b_list"
   ]
  },
  {
   "cell_type": "code",
   "execution_count": 117,
   "id": "d9105cb0",
   "metadata": {},
   "outputs": [
    {
     "data": {
      "text/plain": [
       "True"
      ]
     },
     "execution_count": 117,
     "metadata": {},
     "output_type": "execute_result"
    }
   ],
   "source": [
    "# check if value is present\n",
    "\"a\" in b_list"
   ]
  },
  {
   "cell_type": "code",
   "execution_count": 115,
   "id": "fa82aa47",
   "metadata": {},
   "outputs": [
    {
     "data": {
      "text/plain": [
       "False"
      ]
     },
     "execution_count": 115,
     "metadata": {},
     "output_type": "execute_result"
    }
   ],
   "source": [
    "\"X\" in b_list"
   ]
  },
  {
   "cell_type": "code",
   "execution_count": 119,
   "id": "e9bf7d97",
   "metadata": {},
   "outputs": [
    {
     "data": {
      "text/plain": [
       "True"
      ]
     },
     "execution_count": 119,
     "metadata": {},
     "output_type": "execute_result"
    }
   ],
   "source": [
    "\"X\" not in b_list"
   ]
  },
  {
   "cell_type": "code",
   "execution_count": 120,
   "id": "b356e4ba",
   "metadata": {},
   "outputs": [
    {
     "data": {
      "text/plain": [
       "[1, 2, 3, 'a', 'b', 'c', ('D', 'E')]"
      ]
     },
     "execution_count": 120,
     "metadata": {},
     "output_type": "execute_result"
    }
   ],
   "source": [
    "[1, 2, 3] + [\"a\", \"b\", \"c\", (\"D\", \"E\")]"
   ]
  },
  {
   "cell_type": "code",
   "execution_count": 121,
   "id": "82cfa1ad",
   "metadata": {},
   "outputs": [],
   "source": [
    "x = [1, \"b\", 2]"
   ]
  },
  {
   "cell_type": "code",
   "execution_count": 122,
   "id": "ebe6be0d",
   "metadata": {},
   "outputs": [],
   "source": [
    "x.extend([3, \"c\", (\"d\", 4)])"
   ]
  },
  {
   "cell_type": "code",
   "execution_count": 123,
   "id": "9839e212",
   "metadata": {},
   "outputs": [
    {
     "data": {
      "text/plain": [
       "[1, 'b', 2, 3, 'c', ('d', 4)]"
      ]
     },
     "execution_count": 123,
     "metadata": {},
     "output_type": "execute_result"
    }
   ],
   "source": [
    "x"
   ]
  },
  {
   "cell_type": "code",
   "execution_count": 162,
   "id": "263463c4",
   "metadata": {},
   "outputs": [],
   "source": [
    "# sorting\n",
    "\n",
    "a = [2,5,3,7,5,4,9,2,6,0,6,4,3,2,1,7,5,4,3,6]\n",
    "a.sort()"
   ]
  },
  {
   "cell_type": "code",
   "execution_count": 163,
   "id": "ffb7a0dc",
   "metadata": {},
   "outputs": [
    {
     "data": {
      "text/plain": [
       "[0, 1, 2, 2, 2, 3, 3, 3, 4, 4, 4, 5, 5, 5, 6, 6, 6, 7, 7, 9]"
      ]
     },
     "execution_count": 163,
     "metadata": {},
     "output_type": "execute_result"
    }
   ],
   "source": [
    "a"
   ]
  },
  {
   "cell_type": "code",
   "execution_count": 164,
   "id": "d5bca97a",
   "metadata": {},
   "outputs": [],
   "source": [
    "# we can pass a secondary \"sort key\""
   ]
  },
  {
   "cell_type": "code",
   "execution_count": 174,
   "id": "79283ef3",
   "metadata": {},
   "outputs": [],
   "source": [
    "b = [\"saw\", \"small\", \"he\", \"foxes\", \"six\"]\n"
   ]
  },
  {
   "cell_type": "code",
   "execution_count": 175,
   "id": "c5eeadce",
   "metadata": {},
   "outputs": [],
   "source": [
    "b.sort(key=len)"
   ]
  },
  {
   "cell_type": "code",
   "execution_count": 176,
   "id": "2b97659e",
   "metadata": {},
   "outputs": [
    {
     "data": {
      "text/plain": [
       "['he', 'saw', 'six', 'small', 'foxes']"
      ]
     },
     "execution_count": 176,
     "metadata": {},
     "output_type": "execute_result"
    }
   ],
   "source": [
    "b"
   ]
  },
  {
   "cell_type": "code",
   "execution_count": 177,
   "id": "1b5a68ba",
   "metadata": {},
   "outputs": [
    {
     "data": {
      "text/plain": [
       "[2, 3, 7, 5]"
      ]
     },
     "execution_count": 177,
     "metadata": {},
     "output_type": "execute_result"
    }
   ],
   "source": [
    "seq = [7, 2, 3, 7, 5, 6, 0, 1]\n",
    "seq[1:5]"
   ]
  },
  {
   "cell_type": "code",
   "execution_count": 179,
   "id": "9006cb33",
   "metadata": {},
   "outputs": [],
   "source": [
    "seq[3:5] =  [6,3]"
   ]
  },
  {
   "cell_type": "code",
   "execution_count": 180,
   "id": "ad277026",
   "metadata": {},
   "outputs": [
    {
     "data": {
      "text/plain": [
       "[7, 2, 3, 6, 3, 6, 0, 1]"
      ]
     },
     "execution_count": 180,
     "metadata": {},
     "output_type": "execute_result"
    }
   ],
   "source": [
    "seq"
   ]
  },
  {
   "cell_type": "code",
   "execution_count": 181,
   "id": "986bc5d3",
   "metadata": {},
   "outputs": [
    {
     "data": {
      "text/plain": [
       "[7, 2, 3, 6, 3]"
      ]
     },
     "execution_count": 181,
     "metadata": {},
     "output_type": "execute_result"
    }
   ],
   "source": [
    "seq[:5]"
   ]
  },
  {
   "cell_type": "code",
   "execution_count": 182,
   "id": "aecc1513",
   "metadata": {},
   "outputs": [
    {
     "data": {
      "text/plain": [
       "[6, 3, 6, 0, 1]"
      ]
     },
     "execution_count": 182,
     "metadata": {},
     "output_type": "execute_result"
    }
   ],
   "source": [
    "seq[3:]"
   ]
  },
  {
   "cell_type": "code",
   "execution_count": 183,
   "id": "71d1f4e1",
   "metadata": {},
   "outputs": [
    {
     "data": {
      "text/plain": [
       "[3, 6, 0, 1]"
      ]
     },
     "execution_count": 183,
     "metadata": {},
     "output_type": "execute_result"
    }
   ],
   "source": [
    "seq[-4:]"
   ]
  },
  {
   "cell_type": "code",
   "execution_count": 184,
   "id": "e03ff439",
   "metadata": {},
   "outputs": [
    {
     "data": {
      "text/plain": [
       "[3, 6, 3, 6]"
      ]
     },
     "execution_count": 184,
     "metadata": {},
     "output_type": "execute_result"
    }
   ],
   "source": [
    "seq[-6:-2]"
   ]
  },
  {
   "cell_type": "code",
   "execution_count": 186,
   "id": "d9545d11",
   "metadata": {},
   "outputs": [
    {
     "data": {
      "text/plain": [
       "7"
      ]
     },
     "execution_count": 186,
     "metadata": {},
     "output_type": "execute_result"
    }
   ],
   "source": [
    "seq[-8]"
   ]
  },
  {
   "cell_type": "markdown",
   "id": "23506fc3",
   "metadata": {},
   "source": [
    "## Dictionary\n",
    "`dictionary` or sometimes called `hash maps`or `associative arrays`. The `Dictionary` stores  collection of **key-value** pairs, where `key` and `value` are Python `object`. Created by using **{ : }**, colons **' : '** are used to seperate keys and values."
   ]
  },
  {
   "cell_type": "code",
   "execution_count": 187,
   "id": "c2173033",
   "metadata": {},
   "outputs": [],
   "source": [
    "empty_dict = {}\n",
    "d1 = {\"a\": \"some value\", \"b\": [1,2,3,4]}"
   ]
  },
  {
   "cell_type": "code",
   "execution_count": 188,
   "id": "6fa99584",
   "metadata": {},
   "outputs": [
    {
     "data": {
      "text/plain": [
       "{'a': 'some value', 'b': [1, 2, 3, 4]}"
      ]
     },
     "execution_count": 188,
     "metadata": {},
     "output_type": "execute_result"
    }
   ],
   "source": [
    "d1"
   ]
  },
  {
   "cell_type": "code",
   "execution_count": 189,
   "id": "b74ad705",
   "metadata": {},
   "outputs": [],
   "source": [
    "d1[7] = \"an integer\""
   ]
  },
  {
   "cell_type": "code",
   "execution_count": 190,
   "id": "99aacfb6",
   "metadata": {},
   "outputs": [
    {
     "data": {
      "text/plain": [
       "{'a': 'some value', 'b': [1, 2, 3, 4], 7: 'an integer'}"
      ]
     },
     "execution_count": 190,
     "metadata": {},
     "output_type": "execute_result"
    }
   ],
   "source": [
    "d1"
   ]
  },
  {
   "cell_type": "code",
   "execution_count": 191,
   "id": "28543834",
   "metadata": {},
   "outputs": [
    {
     "data": {
      "text/plain": [
       "[1, 2, 3, 4]"
      ]
     },
     "execution_count": 191,
     "metadata": {},
     "output_type": "execute_result"
    }
   ],
   "source": [
    "d1[\"b\"]"
   ]
  },
  {
   "cell_type": "code",
   "execution_count": 192,
   "id": "899f0e88",
   "metadata": {},
   "outputs": [
    {
     "data": {
      "text/plain": [
       "True"
      ]
     },
     "execution_count": 192,
     "metadata": {},
     "output_type": "execute_result"
    }
   ],
   "source": [
    "# you can check if a dictionary contains a key\n",
    "\n",
    "\"b\" in d1"
   ]
  },
  {
   "cell_type": "code",
   "execution_count": 194,
   "id": "cd7195a2",
   "metadata": {},
   "outputs": [],
   "source": [
    "d1[\"pop\"] = \"dummy popped\""
   ]
  },
  {
   "cell_type": "code",
   "execution_count": 195,
   "id": "72b51d49",
   "metadata": {},
   "outputs": [],
   "source": [
    "d1[\"del\"] = \"dummy delete\""
   ]
  },
  {
   "cell_type": "code",
   "execution_count": 196,
   "id": "cc8bdfcb",
   "metadata": {},
   "outputs": [
    {
     "data": {
      "text/plain": [
       "{'a': 'some value',\n",
       " 'b': [1, 2, 3, 4],\n",
       " 7: 'an integer',\n",
       " 'pop': 'dummy popped',\n",
       " 'del': 'dummy delete'}"
      ]
     },
     "execution_count": 196,
     "metadata": {},
     "output_type": "execute_result"
    }
   ],
   "source": [
    "d1"
   ]
  },
  {
   "cell_type": "code",
   "execution_count": 197,
   "id": "023491a9",
   "metadata": {},
   "outputs": [
    {
     "data": {
      "text/plain": [
       "'dummy popped'"
      ]
     },
     "execution_count": 197,
     "metadata": {},
     "output_type": "execute_result"
    }
   ],
   "source": [
    "d1.pop('pop')"
   ]
  },
  {
   "cell_type": "code",
   "execution_count": 198,
   "id": "208cfc49",
   "metadata": {},
   "outputs": [
    {
     "data": {
      "text/plain": [
       "{'a': 'some value', 'b': [1, 2, 3, 4], 7: 'an integer', 'del': 'dummy delete'}"
      ]
     },
     "execution_count": 198,
     "metadata": {},
     "output_type": "execute_result"
    }
   ],
   "source": [
    "d1"
   ]
  },
  {
   "cell_type": "code",
   "execution_count": 202,
   "id": "84c249b7",
   "metadata": {},
   "outputs": [],
   "source": [
    "del d1[\"del\"]"
   ]
  },
  {
   "cell_type": "code",
   "execution_count": 203,
   "id": "18d6ceb8",
   "metadata": {},
   "outputs": [
    {
     "data": {
      "text/plain": [
       "{'a': 'some value', 'b': [1, 2, 3, 4], 7: 'an integer'}"
      ]
     },
     "execution_count": 203,
     "metadata": {},
     "output_type": "execute_result"
    }
   ],
   "source": [
    "d1"
   ]
  },
  {
   "cell_type": "code",
   "execution_count": 204,
   "id": "5c543495",
   "metadata": {},
   "outputs": [],
   "source": [
    "retrieve = d1.pop('b')"
   ]
  },
  {
   "cell_type": "code",
   "execution_count": 205,
   "id": "18348f56",
   "metadata": {},
   "outputs": [
    {
     "data": {
      "text/plain": [
       "[1, 2, 3, 4]"
      ]
     },
     "execution_count": 205,
     "metadata": {},
     "output_type": "execute_result"
    }
   ],
   "source": [
    "retrieve"
   ]
  },
  {
   "cell_type": "code",
   "execution_count": 206,
   "id": "3e12975e",
   "metadata": {},
   "outputs": [
    {
     "data": {
      "text/plain": [
       "list"
      ]
     },
     "execution_count": 206,
     "metadata": {},
     "output_type": "execute_result"
    }
   ],
   "source": [
    "type(retrieve)"
   ]
  },
  {
   "cell_type": "code",
   "execution_count": 208,
   "id": "a57da8fd",
   "metadata": {},
   "outputs": [
    {
     "data": {
      "text/plain": [
       "['a', 7]"
      ]
     },
     "execution_count": 208,
     "metadata": {},
     "output_type": "execute_result"
    }
   ],
   "source": [
    "list(d1.keys())"
   ]
  },
  {
   "cell_type": "code",
   "execution_count": 209,
   "id": "4582b051",
   "metadata": {},
   "outputs": [
    {
     "data": {
      "text/plain": [
       "['some value', 'an integer']"
      ]
     },
     "execution_count": 209,
     "metadata": {},
     "output_type": "execute_result"
    }
   ],
   "source": [
    "list(d1.values())"
   ]
  },
  {
   "cell_type": "markdown",
   "id": "a60a5ec8",
   "metadata": {},
   "source": [
    "**Note:** If you need to iterate over both they `keys` and `values`, you can use the `items` method to **iterate** over the `keys` and values as 2-tuples"
   ]
  },
  {
   "cell_type": "code",
   "execution_count": 210,
   "id": "5d4ab719",
   "metadata": {},
   "outputs": [
    {
     "data": {
      "text/plain": [
       "[('a', 'some value'), (7, 'an integer')]"
      ]
     },
     "execution_count": 210,
     "metadata": {},
     "output_type": "execute_result"
    }
   ],
   "source": [
    "list(d1.items())"
   ]
  },
  {
   "cell_type": "code",
   "execution_count": 211,
   "id": "fa7c5f64",
   "metadata": {},
   "outputs": [],
   "source": [
    "d1.update({\"a\" : \"other value\", 7.1 : \"float\"})"
   ]
  },
  {
   "cell_type": "code",
   "execution_count": 212,
   "id": "a6d76369",
   "metadata": {},
   "outputs": [
    {
     "data": {
      "text/plain": [
       "{'a': 'other value', 7: 'an integer', 7.1: 'float'}"
      ]
     },
     "execution_count": 212,
     "metadata": {},
     "output_type": "execute_result"
    }
   ],
   "source": [
    "d1"
   ]
  },
  {
   "cell_type": "code",
   "execution_count": 227,
   "id": "8087cade",
   "metadata": {},
   "outputs": [],
   "source": [
    "# Creating dictionary from sequences\n",
    "key = (1,2)\n",
    "value = (\"a\", \"b\")\n",
    "mapping = {}\n",
    "for key,value in zip(key, value):\n",
    "    mapping[key] = value\n",
    "    \n"
   ]
  },
  {
   "cell_type": "code",
   "execution_count": 228,
   "id": "3d30fedd",
   "metadata": {},
   "outputs": [
    {
     "data": {
      "text/plain": [
       "{1: 'a', 2: 'b'}"
      ]
     },
     "execution_count": 228,
     "metadata": {},
     "output_type": "execute_result"
    }
   ],
   "source": [
    "mapping"
   ]
  },
  {
   "cell_type": "code",
   "execution_count": 229,
   "id": "b5d56a50",
   "metadata": {},
   "outputs": [],
   "source": [
    "tuples = zip(range(5), reversed(range(5)))"
   ]
  },
  {
   "cell_type": "code",
   "execution_count": 230,
   "id": "f94208f8",
   "metadata": {},
   "outputs": [
    {
     "data": {
      "text/plain": [
       "<zip at 0x10e9bd940>"
      ]
     },
     "execution_count": 230,
     "metadata": {},
     "output_type": "execute_result"
    }
   ],
   "source": [
    "tuples"
   ]
  },
  {
   "cell_type": "code",
   "execution_count": 231,
   "id": "4e26a0f3",
   "metadata": {},
   "outputs": [],
   "source": [
    "mapping = dict(tuples)"
   ]
  },
  {
   "cell_type": "code",
   "execution_count": 232,
   "id": "db6cedc0",
   "metadata": {},
   "outputs": [
    {
     "data": {
      "text/plain": [
       "{0: 4, 1: 3, 2: 2, 3: 1, 4: 0}"
      ]
     },
     "execution_count": 232,
     "metadata": {},
     "output_type": "execute_result"
    }
   ],
   "source": [
    "mapping"
   ]
  },
  {
   "cell_type": "code",
   "execution_count": null,
   "id": "1535040b",
   "metadata": {},
   "outputs": [],
   "source": [
    "# Default Values\n",
    "\n",
    "if key in some_dic:\n",
    "    value = some_dict[key]\n",
    "else:\n",
    "    value = fefault_value"
   ]
  },
  {
   "cell_type": "code",
   "execution_count": 239,
   "id": "bdff6702",
   "metadata": {},
   "outputs": [
    {
     "name": "stdout",
     "output_type": "stream",
     "text": [
      "a\n",
      "b\n",
      "b\n",
      "a\n",
      "b\n"
     ]
    }
   ],
   "source": [
    "words = [\"apple\", \"bat\", \"bar\", \"atom\", \"book\"]\n",
    "by_letter = {}\n",
    "\n",
    "for word in words:\n",
    "    letter = word[0]\n",
    "    #print(letter)\n",
    "    if letter not in by_letter:\n",
    "        by_letter[letter] = [word]\n",
    "    else:\n",
    "        by_letter[letter].append(word)"
   ]
  },
  {
   "cell_type": "code",
   "execution_count": 238,
   "id": "aff593d1",
   "metadata": {},
   "outputs": [
    {
     "data": {
      "text/plain": [
       "{'a': ['apple', 'atom'], 'b': ['bat', 'bar', 'book']}"
      ]
     },
     "execution_count": 238,
     "metadata": {},
     "output_type": "execute_result"
    }
   ],
   "source": [
    "by_letter"
   ]
  },
  {
   "cell_type": "code",
   "execution_count": null,
   "id": "04d05a90",
   "metadata": {},
   "outputs": [],
   "source": [
    "# the setdefault dictionary method can be used to simplify this workflow.\n",
    "# the preceding for loop can be rewritten as:"
   ]
  },
  {
   "cell_type": "code",
   "execution_count": 241,
   "id": "5908570b",
   "metadata": {},
   "outputs": [],
   "source": [
    "by_letter = {}\n",
    "\n",
    "for word in words:\n",
    "    letter= word[0]\n",
    "    by_letter.setdefault(letter,[]).append(word)"
   ]
  },
  {
   "cell_type": "code",
   "execution_count": 242,
   "id": "e8fccc11",
   "metadata": {},
   "outputs": [
    {
     "data": {
      "text/plain": [
       "{'a': ['apple', 'atom'], 'b': ['bat', 'bar', 'book']}"
      ]
     },
     "execution_count": 242,
     "metadata": {},
     "output_type": "execute_result"
    }
   ],
   "source": [
    "by_letter"
   ]
  },
  {
   "cell_type": "code",
   "execution_count": 243,
   "id": "f2d9adb7",
   "metadata": {},
   "outputs": [],
   "source": [
    "# doing same thing using collection module"
   ]
  },
  {
   "cell_type": "code",
   "execution_count": 244,
   "id": "c9cfc22d",
   "metadata": {},
   "outputs": [],
   "source": [
    "from collections import defaultdict\n",
    "by_letter = defaultdict(list)\n",
    "\n",
    "for word in words:\n",
    "    by_letter[word[0]].append(word)"
   ]
  },
  {
   "cell_type": "code",
   "execution_count": 245,
   "id": "c3f37d88",
   "metadata": {},
   "outputs": [
    {
     "data": {
      "text/plain": [
       "defaultdict(list, {'a': ['apple', 'atom'], 'b': ['bat', 'bar', 'book']})"
      ]
     },
     "execution_count": 245,
     "metadata": {},
     "output_type": "execute_result"
    }
   ],
   "source": [
    "by_letter"
   ]
  },
  {
   "cell_type": "markdown",
   "id": "3cf50afc",
   "metadata": {},
   "source": [
    "## hashability\n",
    "\n",
    "keys in dictionary are generally hashable that means they are immutable eg `str`, `int`, `float` or a `tuple`. "
   ]
  },
  {
   "cell_type": "code",
   "execution_count": 249,
   "id": "58fed7ea",
   "metadata": {},
   "outputs": [
    {
     "data": {
      "text/plain": [
       "-9093447748592403062"
      ]
     },
     "execution_count": 249,
     "metadata": {},
     "output_type": "execute_result"
    }
   ],
   "source": [
    "hash(\"A\")"
   ]
  },
  {
   "cell_type": "code",
   "execution_count": 253,
   "id": "3d9a379a",
   "metadata": {},
   "outputs": [
    {
     "data": {
      "text/plain": [
       "3794340727080330424"
      ]
     },
     "execution_count": 253,
     "metadata": {},
     "output_type": "execute_result"
    }
   ],
   "source": [
    "hash((1,2, (3,4)))"
   ]
  },
  {
   "cell_type": "code",
   "execution_count": 256,
   "id": "98918a28",
   "metadata": {},
   "outputs": [
    {
     "data": {
      "text/plain": [
       "1"
      ]
     },
     "execution_count": 256,
     "metadata": {},
     "output_type": "execute_result"
    }
   ],
   "source": [
    "hash(1)"
   ]
  },
  {
   "cell_type": "code",
   "execution_count": 257,
   "id": "4f7d54fe",
   "metadata": {},
   "outputs": [
    {
     "ename": "TypeError",
     "evalue": "unhashable type: 'list'",
     "output_type": "error",
     "traceback": [
      "\u001b[0;31m---------------------------------------------------------------------------\u001b[0m",
      "\u001b[0;31mTypeError\u001b[0m                                 Traceback (most recent call last)",
      "Cell \u001b[0;32mIn[257], line 1\u001b[0m\n\u001b[0;32m----> 1\u001b[0m \u001b[38;5;28mhash\u001b[39m((\u001b[38;5;241m1\u001b[39m,\u001b[38;5;241m2\u001b[39m,[\u001b[38;5;241m3\u001b[39m,\u001b[38;5;241m4\u001b[39m]))\n",
      "\u001b[0;31mTypeError\u001b[0m: unhashable type: 'list'"
     ]
    }
   ],
   "source": [
    "hash((1,2,[3,4])) # this will show error because the list inside a \n",
    "# tuple is mutable and not hashable"
   ]
  },
  {
   "cell_type": "code",
   "execution_count": 258,
   "id": "429abba8",
   "metadata": {},
   "outputs": [],
   "source": [
    "# to use list as a key, convert it to tuple\n",
    "d = {}\n",
    "d[tuple([1,2,3])] = 5"
   ]
  },
  {
   "cell_type": "code",
   "execution_count": 260,
   "id": "8010cfc8",
   "metadata": {},
   "outputs": [],
   "source": [
    "d['1'] = 1"
   ]
  },
  {
   "cell_type": "code",
   "execution_count": 261,
   "id": "940a7bd2",
   "metadata": {},
   "outputs": [
    {
     "data": {
      "text/plain": [
       "{(1, 2, 3): 5, '1': 1}"
      ]
     },
     "execution_count": 261,
     "metadata": {},
     "output_type": "execute_result"
    }
   ],
   "source": [
    "d"
   ]
  },
  {
   "cell_type": "code",
   "execution_count": 262,
   "id": "0c44e74f",
   "metadata": {},
   "outputs": [],
   "source": [
    "del d['1']"
   ]
  },
  {
   "cell_type": "code",
   "execution_count": 263,
   "id": "45f8fa1b",
   "metadata": {},
   "outputs": [
    {
     "data": {
      "text/plain": [
       "{(1, 2, 3): 5}"
      ]
     },
     "execution_count": 263,
     "metadata": {},
     "output_type": "execute_result"
    }
   ],
   "source": [
    "d"
   ]
  },
  {
   "cell_type": "markdown",
   "id": "d5e3c98a",
   "metadata": {},
   "source": [
    "A `set` is an **unordered collection of unique elements.** A `set` can be created  in two ways: via `set` function  or via `set literal` with curly braces `{ }`. "
   ]
  },
  {
   "cell_type": "code",
   "execution_count": 264,
   "id": "430d419d",
   "metadata": {},
   "outputs": [
    {
     "data": {
      "text/plain": [
       "{0, 1, 2, 6}"
      ]
     },
     "execution_count": 264,
     "metadata": {},
     "output_type": "execute_result"
    }
   ],
   "source": [
    "set([2, 2, 1, 1, 6, 0])"
   ]
  },
  {
   "cell_type": "code",
   "execution_count": 265,
   "id": "53e33921",
   "metadata": {},
   "outputs": [
    {
     "data": {
      "text/plain": [
       "{1, 2, 3, 4, 5, 6}"
      ]
     },
     "execution_count": 265,
     "metadata": {},
     "output_type": "execute_result"
    }
   ],
   "source": [
    "{1, 1, 2, 2, 3, 3, 4, 4, 5, 5, 6}"
   ]
  },
  {
   "cell_type": "markdown",
   "id": "b2f6194d",
   "metadata": {},
   "source": [
    "`set` support mathematical `set operations` like `union`, `intersection`, `difference`, and `symmetric difference`."
   ]
  },
  {
   "cell_type": "code",
   "execution_count": 274,
   "id": "57a40c1a",
   "metadata": {},
   "outputs": [],
   "source": [
    "#eg\n",
    "\n",
    "a = {1, 2, 3, 4, 5}\n",
    "b = {3, 4, 5, 6, 7, 8}"
   ]
  },
  {
   "cell_type": "code",
   "execution_count": 275,
   "id": "3e5ff71f",
   "metadata": {},
   "outputs": [
    {
     "data": {
      "text/plain": [
       "{1, 2, 3, 4, 5, 6, 7, 8}"
      ]
     },
     "execution_count": 275,
     "metadata": {},
     "output_type": "execute_result"
    }
   ],
   "source": [
    "a.union(b) # set of distict elements present in either list.   '|' = binary operator for union"
   ]
  },
  {
   "cell_type": "code",
   "execution_count": 276,
   "id": "9e3c3c7c",
   "metadata": {},
   "outputs": [
    {
     "data": {
      "text/plain": [
       "{1, 2, 3, 4, 5, 6, 7, 8}"
      ]
     },
     "execution_count": 276,
     "metadata": {},
     "output_type": "execute_result"
    }
   ],
   "source": [
    "a | b"
   ]
  },
  {
   "cell_type": "code",
   "execution_count": 277,
   "id": "6f776d3b",
   "metadata": {},
   "outputs": [
    {
     "data": {
      "text/plain": [
       "{3, 4, 5}"
      ]
     },
     "execution_count": 277,
     "metadata": {},
     "output_type": "execute_result"
    }
   ],
   "source": [
    "a.intersection(b) # contains elements occuring in the both sets. '&' = binary operator for intersection."
   ]
  },
  {
   "cell_type": "code",
   "execution_count": 278,
   "id": "9527f526",
   "metadata": {},
   "outputs": [
    {
     "data": {
      "text/plain": [
       "{3, 4, 5}"
      ]
     },
     "execution_count": 278,
     "metadata": {},
     "output_type": "execute_result"
    }
   ],
   "source": [
    "a & b"
   ]
  },
  {
   "cell_type": "code",
   "execution_count": 279,
   "id": "21fce877",
   "metadata": {},
   "outputs": [],
   "source": [
    "a.add(6)"
   ]
  },
  {
   "cell_type": "code",
   "execution_count": 280,
   "id": "8d69784d",
   "metadata": {},
   "outputs": [
    {
     "data": {
      "text/plain": [
       "{1, 2, 3, 4, 5, 6}"
      ]
     },
     "execution_count": 280,
     "metadata": {},
     "output_type": "execute_result"
    }
   ],
   "source": [
    "a"
   ]
  },
  {
   "cell_type": "code",
   "execution_count": 281,
   "id": "e937d068",
   "metadata": {},
   "outputs": [
    {
     "data": {
      "text/plain": [
       "{1, 2}"
      ]
     },
     "execution_count": 281,
     "metadata": {},
     "output_type": "execute_result"
    }
   ],
   "source": [
    "a.difference(b)"
   ]
  },
  {
   "cell_type": "code",
   "execution_count": 282,
   "id": "4886c84c",
   "metadata": {},
   "outputs": [
    {
     "data": {
      "text/plain": [
       "{1, 2, 7, 8}"
      ]
     },
     "execution_count": 282,
     "metadata": {},
     "output_type": "execute_result"
    }
   ],
   "source": [
    "a ^ b  # all the elements in either a or b but not both."
   ]
  },
  {
   "cell_type": "code",
   "execution_count": 283,
   "id": "e4983eaf",
   "metadata": {},
   "outputs": [],
   "source": [
    "c = a.copy()"
   ]
  },
  {
   "cell_type": "code",
   "execution_count": 284,
   "id": "e1e4c1d7",
   "metadata": {},
   "outputs": [
    {
     "data": {
      "text/plain": [
       "{1, 2, 3, 4, 5, 6}"
      ]
     },
     "execution_count": 284,
     "metadata": {},
     "output_type": "execute_result"
    }
   ],
   "source": [
    "c"
   ]
  },
  {
   "cell_type": "code",
   "execution_count": 285,
   "id": "b11221cb",
   "metadata": {},
   "outputs": [],
   "source": [
    "c |= b"
   ]
  },
  {
   "cell_type": "code",
   "execution_count": 286,
   "id": "48bec7e9",
   "metadata": {},
   "outputs": [
    {
     "data": {
      "text/plain": [
       "{1, 2, 3, 4, 5, 6, 7, 8}"
      ]
     },
     "execution_count": 286,
     "metadata": {},
     "output_type": "execute_result"
    }
   ],
   "source": [
    "c"
   ]
  },
  {
   "cell_type": "code",
   "execution_count": 287,
   "id": "d43574cb",
   "metadata": {},
   "outputs": [],
   "source": [
    "d = a.copy()"
   ]
  },
  {
   "cell_type": "code",
   "execution_count": 288,
   "id": "c0b0656f",
   "metadata": {},
   "outputs": [],
   "source": [
    "d &= b"
   ]
  },
  {
   "cell_type": "code",
   "execution_count": 289,
   "id": "5a7e7bcf",
   "metadata": {},
   "outputs": [
    {
     "data": {
      "text/plain": [
       "{3, 4, 5, 6}"
      ]
     },
     "execution_count": 289,
     "metadata": {},
     "output_type": "execute_result"
    }
   ],
   "source": [
    "d"
   ]
  },
  {
   "cell_type": "markdown",
   "id": "0a44b61f",
   "metadata": {},
   "source": [
    "Like `dictionary keys`, `set` elements generally must be **immutable**, and they must be **hashable** (which means that calling `hash` on a value does not raise an exception). In order to store list-like elements (or other mutable sequences) in a set, you can convert them to `tuple`:"
   ]
  },
  {
   "cell_type": "code",
   "execution_count": 290,
   "id": "baaffdaa",
   "metadata": {},
   "outputs": [
    {
     "data": {
      "text/plain": [
       "{(1, 2, 3, 4)}"
      ]
     },
     "execution_count": 290,
     "metadata": {},
     "output_type": "execute_result"
    }
   ],
   "source": [
    "my_data = [1, 2, 3, 4]\n",
    "my_set = {tuple(my_data)}\n",
    "my_set"
   ]
  },
  {
   "cell_type": "code",
   "execution_count": 291,
   "id": "4d8514aa",
   "metadata": {},
   "outputs": [
    {
     "data": {
      "text/plain": [
       "{1, 2, 3, 4, 5, 6}"
      ]
     },
     "execution_count": 291,
     "metadata": {},
     "output_type": "execute_result"
    }
   ],
   "source": [
    "a"
   ]
  },
  {
   "cell_type": "code",
   "execution_count": 292,
   "id": "c234d15a",
   "metadata": {},
   "outputs": [
    {
     "data": {
      "text/plain": [
       "True"
      ]
     },
     "execution_count": 292,
     "metadata": {},
     "output_type": "execute_result"
    }
   ],
   "source": [
    "{1, 2, 3}.issubset(a)"
   ]
  },
  {
   "cell_type": "code",
   "execution_count": 293,
   "id": "2bdcdeaf",
   "metadata": {},
   "outputs": [
    {
     "data": {
      "text/plain": [
       "True"
      ]
     },
     "execution_count": 293,
     "metadata": {},
     "output_type": "execute_result"
    }
   ],
   "source": [
    "a.issuperset({1, 2, 3})"
   ]
  },
  {
   "cell_type": "code",
   "execution_count": 296,
   "id": "3db6f6e0",
   "metadata": {},
   "outputs": [
    {
     "data": {
      "text/plain": [
       "True"
      ]
     },
     "execution_count": 296,
     "metadata": {},
     "output_type": "execute_result"
    }
   ],
   "source": [
    "{1, 2, 3} == {3, 2, 1} # sets are equal if and only if their contents are equal'"
   ]
  },
  {
   "cell_type": "markdown",
   "id": "ca689c14",
   "metadata": {},
   "source": [
    "# Built-In Sequence Functions"
   ]
  },
  {
   "cell_type": "markdown",
   "id": "7b990f97",
   "metadata": {},
   "source": [
    "**enumerate**:\n",
    "It’s common when iterating over a sequence to want to keep track of the index of the current item. A do-it-yourself approach would look like:\n"
   ]
  },
  {
   "cell_type": "code",
   "execution_count": null,
   "id": "15fcae2a",
   "metadata": {},
   "outputs": [],
   "source": [
    "index = 0\n",
    "for value in collection:\n",
    "    # do something with value:\n",
    "    index += 1"
   ]
  },
  {
   "cell_type": "markdown",
   "id": "53aa5b9f",
   "metadata": {},
   "source": [
    "Since this is so common, Python has a built-in function, `enumerate`, which returns a\n",
    "sequence of (i, value) `tuples`:"
   ]
  },
  {
   "cell_type": "code",
   "execution_count": null,
   "id": "f01bf518",
   "metadata": {},
   "outputs": [],
   "source": [
    "for index, value in enumerate(collection):\n",
    "    # do something with value"
   ]
  },
  {
   "cell_type": "code",
   "execution_count": 297,
   "id": "caade7b1",
   "metadata": {},
   "outputs": [
    {
     "data": {
      "text/plain": [
       "[1, 2, 2, 3, 4, 4, 5, 6, 6, 7, 8]"
      ]
     },
     "execution_count": 297,
     "metadata": {},
     "output_type": "execute_result"
    }
   ],
   "source": [
    "#sorted\n",
    "sorted([7, 5, 8, 4, 3, 6, 2, 1, 4, 6, 2])"
   ]
  },
  {
   "cell_type": "code",
   "execution_count": 298,
   "id": "13a04e44",
   "metadata": {},
   "outputs": [
    {
     "data": {
      "text/plain": [
       "[' ', 'a', 'c', 'g', 'i', 'n', 'n', 'n', 'r', 't', 'u']"
      ]
     },
     "execution_count": 298,
     "metadata": {},
     "output_type": "execute_result"
    }
   ],
   "source": [
    "sorted(\"running cat\")"
   ]
  },
  {
   "cell_type": "code",
   "execution_count": 299,
   "id": "64cc3bc0",
   "metadata": {},
   "outputs": [],
   "source": [
    "# zip\n",
    "\n",
    "seq1 = [\"a\", \"b\", \"c\"]\n",
    "seq2 = [1, 2, 3]\n",
    "\n",
    "zipped = zip(seq1, seq2)"
   ]
  },
  {
   "cell_type": "code",
   "execution_count": 301,
   "id": "945c2e10",
   "metadata": {},
   "outputs": [
    {
     "data": {
      "text/plain": [
       "[('a', 1), ('b', 2), ('c', 3)]"
      ]
     },
     "execution_count": 301,
     "metadata": {},
     "output_type": "execute_result"
    }
   ],
   "source": [
    "list(zipped)"
   ]
  },
  {
   "cell_type": "code",
   "execution_count": 304,
   "id": "c8a9c45c",
   "metadata": {},
   "outputs": [
    {
     "data": {
      "text/plain": [
       "[('a', 1, False), ('b', 2, True)]"
      ]
     },
     "execution_count": 304,
     "metadata": {},
     "output_type": "execute_result"
    }
   ],
   "source": [
    "seq3 = [False, True]\n",
    "list(zip(seq1, seq2, seq3)) # no of element in zip producted is determined by the shortest sequence\n",
    "# eg. seq3 in above example"
   ]
  },
  {
   "cell_type": "markdown",
   "id": "75b6dd64",
   "metadata": {},
   "source": [
    "A common use of `zip` is simultaneously iterating over multiple sequences, possibly also combined with `enumerate`:"
   ]
  },
  {
   "cell_type": "code",
   "execution_count": 305,
   "id": "28789be3",
   "metadata": {},
   "outputs": [
    {
     "name": "stdout",
     "output_type": "stream",
     "text": [
      "0: a, 1\n",
      "1: b, 2\n",
      "2: c, 3\n"
     ]
    }
   ],
   "source": [
    "for index, (a, b) in enumerate(zip(seq1, seq2)):\n",
    "    print(f\"{index}: {a}, {b}\")"
   ]
  },
  {
   "cell_type": "code",
   "execution_count": 306,
   "id": "10dcf7e6",
   "metadata": {},
   "outputs": [
    {
     "data": {
      "text/plain": [
       "[9, 8, 7, 6, 5, 4, 3, 2, 1, 0]"
      ]
     },
     "execution_count": 306,
     "metadata": {},
     "output_type": "execute_result"
    }
   ],
   "source": [
    "# reversed\n",
    "list(reversed(range(10)))"
   ]
  },
  {
   "cell_type": "markdown",
   "id": "f819b2c3",
   "metadata": {},
   "source": [
    "Keep in mind that `reversed` is a **generator** , so **it does not create the reversed sequence until materialized** (e.g., with list or a for loop)."
   ]
  },
  {
   "cell_type": "markdown",
   "id": "56cd19c7",
   "metadata": {},
   "source": [
    "## List, Set, and Dictionary Comprehensions\n",
    "[expr for value in collection if condition]"
   ]
  },
  {
   "cell_type": "code",
   "execution_count": null,
   "id": "2ae9dae2",
   "metadata": {},
   "outputs": [],
   "source": [
    "#eg\n",
    "result = []\n",
    "for value in collection:\n",
    "    if condition:\n",
    "        result.append(exp)"
   ]
  },
  {
   "cell_type": "markdown",
   "id": "5fe86999",
   "metadata": {},
   "source": [
    "The filter condition can be omitted, leaving only the expression. For example, given a list of strings, we could filter out strings with length 2 or less and convert them to uppercase like this:"
   ]
  },
  {
   "cell_type": "code",
   "execution_count": 308,
   "id": "3803059b",
   "metadata": {},
   "outputs": [],
   "source": [
    "strings = ['a', 'as', 'bat', 'car', 'dove', 'python']"
   ]
  },
  {
   "cell_type": "code",
   "execution_count": 311,
   "id": "481f8ee6",
   "metadata": {},
   "outputs": [
    {
     "data": {
      "text/plain": [
       "['BAT', 'CAR', 'DOVE', 'PYTHON']"
      ]
     },
     "execution_count": 311,
     "metadata": {},
     "output_type": "execute_result"
    }
   ],
   "source": [
    "[x.upper() for x in strings if len(x) > 2]"
   ]
  },
  {
   "cell_type": "markdown",
   "id": "25b18f7a",
   "metadata": {},
   "source": [
    "`Set` and `dictionary` comprehensions are a natural extension, producing sets and dic‐\n",
    "tionaries in an idiomatically similar way instead of lists."
   ]
  },
  {
   "cell_type": "markdown",
   "id": "6b2e20d9",
   "metadata": {},
   "source": [
    "dict-comp: {key-expr: value-expr for value in collection\n",
    "            if condition }"
   ]
  },
  {
   "cell_type": "markdown",
   "id": "26eb71d1",
   "metadata": {},
   "source": [
    "A set comprehension looks like the equivalent list comprehension except with curly braces instead of square brackets:"
   ]
  },
  {
   "cell_type": "markdown",
   "id": "d64c720e",
   "metadata": {},
   "source": [
    "set_comp = {expr for value in collection if condition}"
   ]
  },
  {
   "cell_type": "code",
   "execution_count": 312,
   "id": "fab48696",
   "metadata": {},
   "outputs": [],
   "source": [
    "unique_lengths = {len(x) for x in strings}"
   ]
  },
  {
   "cell_type": "code",
   "execution_count": 313,
   "id": "e4cf363b",
   "metadata": {},
   "outputs": [
    {
     "data": {
      "text/plain": [
       "{1, 2, 3, 4, 6}"
      ]
     },
     "execution_count": 313,
     "metadata": {},
     "output_type": "execute_result"
    }
   ],
   "source": [
    "unique_lengths"
   ]
  },
  {
   "cell_type": "markdown",
   "id": "fe198dfe",
   "metadata": {},
   "source": [
    "We could also express this more functionally using the `map` function, introduced shortly:"
   ]
  },
  {
   "cell_type": "code",
   "execution_count": 314,
   "id": "100c958b",
   "metadata": {},
   "outputs": [
    {
     "data": {
      "text/plain": [
       "{1, 2, 3, 4, 6}"
      ]
     },
     "execution_count": 314,
     "metadata": {},
     "output_type": "execute_result"
    }
   ],
   "source": [
    "set(map(len, strings))"
   ]
  },
  {
   "cell_type": "markdown",
   "id": "37699394",
   "metadata": {},
   "source": [
    "As a simple `dictionary` comprehension example, we could create a lookup `map` of these strings for their locations in the list:"
   ]
  },
  {
   "cell_type": "code",
   "execution_count": 319,
   "id": "f5e68986",
   "metadata": {},
   "outputs": [],
   "source": [
    "loc_mapping = {value: index for index, value in enumerate(strings)}"
   ]
  },
  {
   "cell_type": "code",
   "execution_count": 320,
   "id": "b99897e1",
   "metadata": {},
   "outputs": [
    {
     "data": {
      "text/plain": [
       "{'a': 0, 'as': 1, 'bat': 2, 'car': 3, 'dove': 4, 'python': 5}"
      ]
     },
     "execution_count": 320,
     "metadata": {},
     "output_type": "execute_result"
    }
   ],
   "source": [
    "loc_mapping"
   ]
  },
  {
   "cell_type": "code",
   "execution_count": 334,
   "id": "dd4b6ce7",
   "metadata": {},
   "outputs": [],
   "source": [
    "# nested list comprehensions\n",
    "\n",
    "all_data = [[\"John\", \"Emily\", \"Danish\", \"Furqan\", \"Abid\", \"aalam\"], [\"Lalam\", \"Hamna\", \"Laiba\", \"Anesa\"]]\n",
    "names_of_interest = []\n",
    "for names in all_data:\n",
    "    enough_a = [name for name in names if name.count(\"a\") >= 2]\n",
    "    names_of_interest.extend(enough_a)"
   ]
  },
  {
   "cell_type": "code",
   "execution_count": 332,
   "id": "75af4a9b",
   "metadata": {},
   "outputs": [
    {
     "data": {
      "text/plain": [
       "['aalam', 'Lalam', 'Hamna', 'Laiba']"
      ]
     },
     "execution_count": 332,
     "metadata": {},
     "output_type": "execute_result"
    }
   ],
   "source": [
    "names_of_interest"
   ]
  },
  {
   "cell_type": "markdown",
   "id": "66040cc7",
   "metadata": {},
   "source": [
    "You can actually wrap this whole operation up in a single nested `list` comprehension, which will look like:"
   ]
  },
  {
   "cell_type": "code",
   "execution_count": 339,
   "id": "ba7ecd85",
   "metadata": {},
   "outputs": [],
   "source": [
    "result = [name for names in all_data for name in names if name.count(\"a\") >= 2]"
   ]
  },
  {
   "cell_type": "code",
   "execution_count": 340,
   "id": "a3c575a9",
   "metadata": {},
   "outputs": [
    {
     "data": {
      "text/plain": [
       "['aalam', 'Lalam', 'Hamna', 'Laiba']"
      ]
     },
     "execution_count": 340,
     "metadata": {},
     "output_type": "execute_result"
    }
   ],
   "source": [
    "result"
   ]
  },
  {
   "cell_type": "code",
   "execution_count": 336,
   "id": "b68a0d60",
   "metadata": {},
   "outputs": [],
   "source": [
    "some_tuples = [(1, 2, 3), (4, 5, 6), (7, 8, 9)]\n",
    "flattened = [x for tup in some_tuples for x in tup]"
   ]
  },
  {
   "cell_type": "code",
   "execution_count": 337,
   "id": "3d2911c8",
   "metadata": {},
   "outputs": [
    {
     "data": {
      "text/plain": [
       "[1, 2, 3, 4, 5, 6, 7, 8, 9]"
      ]
     },
     "execution_count": 337,
     "metadata": {},
     "output_type": "execute_result"
    }
   ],
   "source": [
    "flattened"
   ]
  },
  {
   "cell_type": "markdown",
   "id": "6e2502a2",
   "metadata": {},
   "source": [
    "Keep in mind that the **order** of the `for` expressions would be the **same** if you wrote a **nested for loop** instead of a `list` comprehension:\n"
   ]
  },
  {
   "cell_type": "code",
   "execution_count": 341,
   "id": "4ffd72a7",
   "metadata": {},
   "outputs": [],
   "source": [
    "flattened = []\n",
    "\n",
    "for tup in some_tuples:\n",
    "    for x in tup:\n",
    "        flattened.append(x)"
   ]
  },
  {
   "cell_type": "code",
   "execution_count": 342,
   "id": "0456d093",
   "metadata": {},
   "outputs": [
    {
     "data": {
      "text/plain": [
       "[1, 2, 3, 4, 5, 6, 7, 8, 9]"
      ]
     },
     "execution_count": 342,
     "metadata": {},
     "output_type": "execute_result"
    }
   ],
   "source": [
    "flattened"
   ]
  },
  {
   "cell_type": "markdown",
   "id": "911a8d97",
   "metadata": {},
   "source": [
    "You can have arbitrarily many levels of nesting, though if you have more than two or three levels of nesting, you should probably start to question whether this makes sense from a code readability standpoint. It’s important to distinguish the syntax just shown from a list comprehension inside a list comprehension, which is also perfectly valid:"
   ]
  },
  {
   "cell_type": "code",
   "execution_count": 345,
   "id": "62a5a122",
   "metadata": {},
   "outputs": [
    {
     "data": {
      "text/plain": [
       "[[1, 2, 3], [4, 5, 6], [7, 8, 9]]"
      ]
     },
     "execution_count": 345,
     "metadata": {},
     "output_type": "execute_result"
    }
   ],
   "source": [
    "[[x for x in tup] for tup in some_tuples]"
   ]
  },
  {
   "cell_type": "markdown",
   "id": "e328f95e",
   "metadata": {},
   "source": [
    "This produces a `list` of **lists**, rather than a **flattened list** of all of the inner elements.\n"
   ]
  },
  {
   "cell_type": "markdown",
   "id": "2512b1b8",
   "metadata": {},
   "source": [
    "## Functions\n",
    "Functions are the primary and most important **method of code** organization and **reuse** in Python. As a rule of thumb, if you anticipate needing to **repeat the same or very similar code more than once**, it may be worth writing a **reusable function**. Functions can also help make your code more readable by giving a name to a **group of Python statements**."
   ]
  },
  {
   "cell_type": "code",
   "execution_count": 346,
   "id": "c73e54d3",
   "metadata": {},
   "outputs": [],
   "source": [
    "def my_function(x, y):\n",
    "    return x + y"
   ]
  },
  {
   "cell_type": "code",
   "execution_count": 348,
   "id": "2d9dcdda",
   "metadata": {},
   "outputs": [
    {
     "data": {
      "text/plain": [
       "3"
      ]
     },
     "execution_count": 348,
     "metadata": {},
     "output_type": "execute_result"
    }
   ],
   "source": [
    "my_function(1, 2)"
   ]
  },
  {
   "cell_type": "markdown",
   "id": "7b3b3e60",
   "metadata": {},
   "source": [
    "There is **no issue with having multiple return statements**. If Python reaches the end of a **function without encountering a return statement**, `None` is returned automatically. For example:"
   ]
  },
  {
   "cell_type": "code",
   "execution_count": 349,
   "id": "089dbac7",
   "metadata": {},
   "outputs": [],
   "source": [
    "def function_without_return(x):\n",
    "    print(x)"
   ]
  },
  {
   "cell_type": "code",
   "execution_count": 350,
   "id": "6431fe3c",
   "metadata": {},
   "outputs": [
    {
     "name": "stdout",
     "output_type": "stream",
     "text": [
      "hello!\n"
     ]
    }
   ],
   "source": [
    "result = function_without_return(\"hello!\")"
   ]
  },
  {
   "cell_type": "code",
   "execution_count": 351,
   "id": "a1621c0f",
   "metadata": {},
   "outputs": [
    {
     "name": "stdout",
     "output_type": "stream",
     "text": [
      "None\n"
     ]
    }
   ],
   "source": [
    "print(result)"
   ]
  },
  {
   "cell_type": "markdown",
   "id": "092c43e9",
   "metadata": {},
   "source": [
    "`function` can have `positional arguments` and `keyword arguments`."
   ]
  },
  {
   "cell_type": "code",
   "execution_count": 352,
   "id": "306b1a97",
   "metadata": {},
   "outputs": [],
   "source": [
    "def my_function(x, y, z = 1.5):\n",
    "    if z > 1:\n",
    "        return z * (x + y)\n",
    "    else:\n",
    "        return z / (x + y)"
   ]
  },
  {
   "cell_type": "code",
   "execution_count": 353,
   "id": "d29f1201",
   "metadata": {},
   "outputs": [
    {
     "data": {
      "text/plain": [
       "0.14285714285714285"
      ]
     },
     "execution_count": 353,
     "metadata": {},
     "output_type": "execute_result"
    }
   ],
   "source": [
    "my_function(3, 4, 1)"
   ]
  },
  {
   "cell_type": "code",
   "execution_count": 354,
   "id": "b1ab39e0",
   "metadata": {},
   "outputs": [
    {
     "data": {
      "text/plain": [
       "14"
      ]
     },
     "execution_count": 354,
     "metadata": {},
     "output_type": "execute_result"
    }
   ],
   "source": [
    "my_function(3, 4, 2)"
   ]
  },
  {
   "cell_type": "code",
   "execution_count": 355,
   "id": "71c94ac2",
   "metadata": {},
   "outputs": [
    {
     "data": {
      "text/plain": [
       "10.5"
      ]
     },
     "execution_count": 355,
     "metadata": {},
     "output_type": "execute_result"
    }
   ],
   "source": [
    "my_function(3,4)"
   ]
  },
  {
   "cell_type": "markdown",
   "id": "d9633afc",
   "metadata": {},
   "source": [
    "The main **restriction** on **function arguments** is that the **keyword arguments must follow the positional arguments** (if any). You can specify **keyword arguments in any order**. This frees you from having to remember the order in which the function arguments were specified. You need to remember only what their names are."
   ]
  },
  {
   "cell_type": "markdown",
   "id": "c5fb7b96",
   "metadata": {},
   "source": [
    "# Namespaces, Scope, and Local Functions\n"
   ]
  },
  {
   "cell_type": "code",
   "execution_count": 356,
   "id": "e9738fde",
   "metadata": {},
   "outputs": [],
   "source": [
    "def func():\n",
    "    a = []\n",
    "    for i in range(5):\n",
    "        a.append(i)"
   ]
  },
  {
   "cell_type": "code",
   "execution_count": 357,
   "id": "30500923",
   "metadata": {},
   "outputs": [],
   "source": [
    "func()"
   ]
  },
  {
   "cell_type": "code",
   "execution_count": 359,
   "id": "5bdcefca",
   "metadata": {},
   "outputs": [],
   "source": [
    "func?"
   ]
  },
  {
   "cell_type": "code",
   "execution_count": 369,
   "id": "3f7a070c",
   "metadata": {},
   "outputs": [],
   "source": [
    "a = []\n",
    "\n",
    "def func():\n",
    "    for i in range(5):\n",
    "        a.append(i)"
   ]
  },
  {
   "cell_type": "code",
   "execution_count": 370,
   "id": "c040cd60",
   "metadata": {},
   "outputs": [
    {
     "data": {
      "text/plain": [
       "[]"
      ]
     },
     "execution_count": 370,
     "metadata": {},
     "output_type": "execute_result"
    }
   ],
   "source": [
    "a"
   ]
  },
  {
   "cell_type": "code",
   "execution_count": 371,
   "id": "1c308c39",
   "metadata": {},
   "outputs": [],
   "source": [
    "func()"
   ]
  },
  {
   "cell_type": "code",
   "execution_count": 373,
   "id": "d147a54f",
   "metadata": {},
   "outputs": [
    {
     "data": {
      "text/plain": [
       "[0, 1, 2, 3, 4]"
      ]
     },
     "execution_count": 373,
     "metadata": {},
     "output_type": "execute_result"
    }
   ],
   "source": [
    "a"
   ]
  },
  {
   "cell_type": "markdown",
   "id": "085c2e3f",
   "metadata": {},
   "source": [
    "Assigning variables outside of the function’s scope is possible, but those variables\n",
    "must be declared explicitly using either the global or nonlocal keywords:"
   ]
  },
  {
   "cell_type": "code",
   "execution_count": 378,
   "id": "9a9b8c3e",
   "metadata": {},
   "outputs": [],
   "source": [
    "a = None"
   ]
  },
  {
   "cell_type": "code",
   "execution_count": 380,
   "id": "bb9f1fd1",
   "metadata": {},
   "outputs": [
    {
     "data": {
      "text/plain": [
       "NoneType"
      ]
     },
     "execution_count": 380,
     "metadata": {},
     "output_type": "execute_result"
    }
   ],
   "source": [
    "type(a)"
   ]
  },
  {
   "cell_type": "code",
   "execution_count": 381,
   "id": "509e113c",
   "metadata": {},
   "outputs": [],
   "source": [
    "def bind_a_variable():\n",
    "    global a\n",
    "    a = []\n",
    "bind_a_variable()"
   ]
  },
  {
   "cell_type": "code",
   "execution_count": 382,
   "id": "1ddb538a",
   "metadata": {},
   "outputs": [
    {
     "name": "stdout",
     "output_type": "stream",
     "text": [
      "[]\n"
     ]
    }
   ],
   "source": [
    "print(a)"
   ]
  },
  {
   "cell_type": "code",
   "execution_count": 383,
   "id": "ee0a8f8b",
   "metadata": {},
   "outputs": [
    {
     "data": {
      "text/plain": [
       "list"
      ]
     },
     "execution_count": 383,
     "metadata": {},
     "output_type": "execute_result"
    }
   ],
   "source": [
    "type(a)"
   ]
  },
  {
   "cell_type": "code",
   "execution_count": 390,
   "id": "ec4f52b0",
   "metadata": {},
   "outputs": [],
   "source": [
    "# returning multiple values\n",
    "def f():\n",
    "    a = 5\n",
    "    b = 6\n",
    "    c = 7\n",
    "    return a,b,c\n",
    "    "
   ]
  },
  {
   "cell_type": "code",
   "execution_count": 386,
   "id": "a42da089",
   "metadata": {},
   "outputs": [],
   "source": [
    "a, b, c = f()"
   ]
  },
  {
   "cell_type": "code",
   "execution_count": 391,
   "id": "fa947142",
   "metadata": {},
   "outputs": [
    {
     "data": {
      "text/plain": [
       "5"
      ]
     },
     "execution_count": 391,
     "metadata": {},
     "output_type": "execute_result"
    }
   ],
   "source": [
    "a"
   ]
  },
  {
   "cell_type": "code",
   "execution_count": 392,
   "id": "fc238ac3",
   "metadata": {},
   "outputs": [
    {
     "data": {
      "text/plain": [
       "6"
      ]
     },
     "execution_count": 392,
     "metadata": {},
     "output_type": "execute_result"
    }
   ],
   "source": [
    "b"
   ]
  },
  {
   "cell_type": "code",
   "execution_count": 393,
   "id": "d7f3909a",
   "metadata": {},
   "outputs": [
    {
     "data": {
      "text/plain": [
       "7"
      ]
     },
     "execution_count": 393,
     "metadata": {},
     "output_type": "execute_result"
    }
   ],
   "source": [
    "c"
   ]
  },
  {
   "cell_type": "markdown",
   "id": "6118af00",
   "metadata": {},
   "source": [
    "## Functions Are Objects\n",
    "Since `Python functions` are `objects`, many constructs can be easily expressed that are difficult to do in other languages. Suppose we were doing some data cleaning and needed to apply a bunch of transformations to the following list of strings:"
   ]
  },
  {
   "cell_type": "code",
   "execution_count": 399,
   "id": "e8534b14",
   "metadata": {},
   "outputs": [],
   "source": [
    "states = [\"   Alabama \", \"Georgia!\", \"Georgia\", \"georgia\", \"FlOrIda\", \"south.   carolina###\", \"West virginia\"]"
   ]
  },
  {
   "cell_type": "code",
   "execution_count": 421,
   "id": "17c3a7f6",
   "metadata": {},
   "outputs": [],
   "source": [
    "import re\n",
    "\n",
    "def clean_strings(strings):\n",
    "    result = []\n",
    "    for value in strings:\n",
    "        value = value.strip()\n",
    "        value = re.sub(\"[!#?]\",\"\",value)\n",
    "        value = value.title()\n",
    "        result.append(value)\n",
    "    return result\n",
    "        "
   ]
  },
  {
   "cell_type": "code",
   "execution_count": 405,
   "id": "7ea1a969",
   "metadata": {},
   "outputs": [
    {
     "data": {
      "text/plain": [
       "['Alabama',\n",
       " 'Georgia',\n",
       " 'Georgia',\n",
       " 'Georgia',\n",
       " 'Florida',\n",
       " 'South.   Carolina',\n",
       " 'West Virginia']"
      ]
     },
     "execution_count": 405,
     "metadata": {},
     "output_type": "execute_result"
    }
   ],
   "source": [
    "clean_strings(states)"
   ]
  },
  {
   "cell_type": "code",
   "execution_count": 406,
   "id": "11513f6a",
   "metadata": {},
   "outputs": [],
   "source": [
    "def remove_punctuation(value):\n",
    "    return re.sub(\"[!#?]\", \"\", value)\n",
    "\n",
    "clean_ops = [str.strip, remove_punctuation, str.title]\n"
   ]
  },
  {
   "cell_type": "code",
   "execution_count": 414,
   "id": "189981df",
   "metadata": {},
   "outputs": [],
   "source": [
    "def clean_string(strings,ops):\n",
    "    result = []\n",
    "    for value in strings:\n",
    "        for func in ops:\n",
    "            value = func(value)\n",
    "        result.append(value)\n",
    "    return result"
   ]
  },
  {
   "cell_type": "code",
   "execution_count": 415,
   "id": "559b3eca",
   "metadata": {},
   "outputs": [
    {
     "data": {
      "text/plain": [
       "['Alabama',\n",
       " 'Georgia',\n",
       " 'Georgia',\n",
       " 'Georgia',\n",
       " 'Florida',\n",
       " 'South.   Carolina',\n",
       " 'West Virginia']"
      ]
     },
     "execution_count": 415,
     "metadata": {},
     "output_type": "execute_result"
    }
   ],
   "source": [
    "clean_string(states, clean_ops)"
   ]
  },
  {
   "cell_type": "markdown",
   "id": "89b7e843",
   "metadata": {},
   "source": [
    "A more `functional` pattern like this enables you to easily modify how the `strings` are transformed at a very high level. The `clean_strings` function is also now more reusable and generic.\n",
    "You can **use functions as arguments to other functions** like the built-in `map` function, which applies a function to a sequence of some kind:"
   ]
  },
  {
   "cell_type": "code",
   "execution_count": 423,
   "id": "8636dfcf",
   "metadata": {},
   "outputs": [
    {
     "name": "stdout",
     "output_type": "stream",
     "text": [
      "   Alabama \n",
      "Georgia\n",
      "Georgia\n",
      "georgia\n",
      "FlOrIda\n",
      "south.   carolina\n",
      "West virginia\n"
     ]
    }
   ],
   "source": [
    "for x in map(remove_punctuation, states):\n",
    "    print(x)"
   ]
  },
  {
   "cell_type": "markdown",
   "id": "185d65ff",
   "metadata": {},
   "source": [
    "# Lambda Functions"
   ]
  },
  {
   "cell_type": "code",
   "execution_count": 424,
   "id": "af7c27cf",
   "metadata": {},
   "outputs": [],
   "source": [
    "def short_function(x):\n",
    "    return x * 2"
   ]
  },
  {
   "cell_type": "code",
   "execution_count": 425,
   "id": "3c874ac4",
   "metadata": {},
   "outputs": [],
   "source": [
    "equiv_anom = lambda x: x * 2"
   ]
  },
  {
   "cell_type": "code",
   "execution_count": 426,
   "id": "078b162d",
   "metadata": {},
   "outputs": [
    {
     "data": {
      "text/plain": [
       "<function __main__.<lambda>(x)>"
      ]
     },
     "execution_count": 426,
     "metadata": {},
     "output_type": "execute_result"
    }
   ],
   "source": [
    "equiv_anom"
   ]
  },
  {
   "cell_type": "code",
   "execution_count": 427,
   "id": "2f52ac13",
   "metadata": {},
   "outputs": [],
   "source": [
    "def apply_to_list(some_list, f):\n",
    "    return [f(x) for x in some_list]"
   ]
  },
  {
   "cell_type": "code",
   "execution_count": 428,
   "id": "dfd83bab",
   "metadata": {},
   "outputs": [],
   "source": [
    "ints = [2, 4, 0, 9, 3]"
   ]
  },
  {
   "cell_type": "code",
   "execution_count": 429,
   "id": "24b55593",
   "metadata": {},
   "outputs": [
    {
     "data": {
      "text/plain": [
       "[4, 8, 0, 18, 6]"
      ]
     },
     "execution_count": 429,
     "metadata": {},
     "output_type": "execute_result"
    }
   ],
   "source": [
    "apply_to_list(ints, lambda x: x * 2)"
   ]
  },
  {
   "cell_type": "markdown",
   "id": "8a4f842c",
   "metadata": {},
   "source": [
    "You could also have written [x * 2 for x in ints], but here we were able to\n",
    "succinctly pass a custom operator to the `apply_to_list function`."
   ]
  },
  {
   "cell_type": "code",
   "execution_count": 430,
   "id": "984f4d54",
   "metadata": {},
   "outputs": [],
   "source": [
    "strings = [\"asw\", \"er\", \"ewqs\", \"swd\", \"eax\", \"r\"]"
   ]
  },
  {
   "cell_type": "code",
   "execution_count": 431,
   "id": "962d25af",
   "metadata": {},
   "outputs": [],
   "source": [
    "strings.sort(key = lambda x : len(set(x)))"
   ]
  },
  {
   "cell_type": "code",
   "execution_count": 432,
   "id": "ae4b3ad2",
   "metadata": {},
   "outputs": [
    {
     "data": {
      "text/plain": [
       "['r', 'er', 'asw', 'swd', 'eax', 'ewqs']"
      ]
     },
     "execution_count": 432,
     "metadata": {},
     "output_type": "execute_result"
    }
   ],
   "source": [
    "strings"
   ]
  },
  {
   "cell_type": "markdown",
   "id": "fcabc997",
   "metadata": {},
   "source": [
    "## Generators\n",
    "Many objects in Python support **iteration**, such as over **objects in a** `list` or **lines in a file**. This is accomplished by means of the `iterator protocol`, a generic way to make objects iterable. For example, **iterating over a dictionary yields the dictionary keys**:\n"
   ]
  },
  {
   "cell_type": "code",
   "execution_count": 434,
   "id": "c2c0744c",
   "metadata": {},
   "outputs": [],
   "source": [
    "some_dict = {\"a\" : 1, \"b\" : 2, \"c\" : 3}"
   ]
  },
  {
   "cell_type": "code",
   "execution_count": 435,
   "id": "16234066",
   "metadata": {},
   "outputs": [
    {
     "name": "stdout",
     "output_type": "stream",
     "text": [
      "a\n",
      "b\n",
      "c\n"
     ]
    }
   ],
   "source": [
    "for key in some_dict:\n",
    "    print(key)"
   ]
  },
  {
   "cell_type": "markdown",
   "id": "ce26e28c",
   "metadata": {},
   "source": [
    "When you write for `key` in **some_dict**, the Python interpreter first attempts to create an `iterator` out of **some_dict**:"
   ]
  },
  {
   "cell_type": "markdown",
   "id": "1fad4973",
   "metadata": {},
   "source": [
    "`generator`can return a sequence of multiple values by pausing and resuming execution each time the generator is used."
   ]
  },
  {
   "cell_type": "code",
   "execution_count": 27,
   "id": "34a15eba",
   "metadata": {},
   "outputs": [],
   "source": [
    "def squares(n=10):\n",
    "    print(f\"Generating squares from 1 to {n ** 2}\")\n",
    "    for i in range(1, n + 1):\n",
    "        yield i ** 2\n",
    "        "
   ]
  },
  {
   "cell_type": "code",
   "execution_count": 28,
   "id": "26df3e01",
   "metadata": {},
   "outputs": [
    {
     "data": {
      "text/plain": [
       "generator"
      ]
     },
     "execution_count": 28,
     "metadata": {},
     "output_type": "execute_result"
    }
   ],
   "source": [
    "type(squares())"
   ]
  },
  {
   "cell_type": "code",
   "execution_count": 29,
   "id": "0544a03d",
   "metadata": {},
   "outputs": [
    {
     "name": "stdout",
     "output_type": "stream",
     "text": [
      "Generating squares from 1 to 100\n",
      "1 4 9 16 25 36 49 64 81 100 "
     ]
    }
   ],
   "source": [
    "for x in squares():\n",
    "    print(x, end= \" \")"
   ]
  },
  {
   "cell_type": "code",
   "execution_count": 30,
   "id": "234e0659",
   "metadata": {},
   "outputs": [],
   "source": [
    "# Generator expression"
   ]
  },
  {
   "cell_type": "code",
   "execution_count": 31,
   "id": "e08a0dd1",
   "metadata": {},
   "outputs": [],
   "source": [
    "gen = (x ** 2 for x in range(100))"
   ]
  },
  {
   "cell_type": "code",
   "execution_count": 32,
   "id": "a84890a4",
   "metadata": {},
   "outputs": [
    {
     "data": {
      "text/plain": [
       "generator"
      ]
     },
     "execution_count": 32,
     "metadata": {},
     "output_type": "execute_result"
    }
   ],
   "source": [
    "type(gen)"
   ]
  },
  {
   "cell_type": "code",
   "execution_count": 35,
   "id": "571925bb",
   "metadata": {},
   "outputs": [],
   "source": [
    "# or we could write generator expression by this\n",
    "def _make_gen_():\n",
    "    for x in range(100):\n",
    "        yield x ** 2\n",
    "gen = _make_gen_()"
   ]
  },
  {
   "cell_type": "code",
   "execution_count": 36,
   "id": "55f1816f",
   "metadata": {},
   "outputs": [
    {
     "data": {
      "text/plain": [
       "328350"
      ]
     },
     "execution_count": 36,
     "metadata": {},
     "output_type": "execute_result"
    }
   ],
   "source": [
    "sum(x ** 2 for x in range(100))"
   ]
  },
  {
   "cell_type": "code",
   "execution_count": 37,
   "id": "41759125",
   "metadata": {},
   "outputs": [
    {
     "data": {
      "text/plain": [
       "{0: 0, 1: 1, 2: 4, 3: 9, 4: 16}"
      ]
     },
     "execution_count": 37,
     "metadata": {},
     "output_type": "execute_result"
    }
   ],
   "source": [
    "dict((i, i ** 2) for i in range(5))"
   ]
  },
  {
   "cell_type": "code",
   "execution_count": 39,
   "id": "ac8196aa",
   "metadata": {},
   "outputs": [],
   "source": [
    "#itertools module"
   ]
  },
  {
   "cell_type": "code",
   "execution_count": 60,
   "id": "c09fcd74",
   "metadata": {},
   "outputs": [],
   "source": [
    "import itertools"
   ]
  },
  {
   "cell_type": "code",
   "execution_count": 67,
   "id": "d77f4d77",
   "metadata": {},
   "outputs": [],
   "source": [
    "def first_letter(x):\n",
    "    return x[0]"
   ]
  },
  {
   "cell_type": "code",
   "execution_count": 85,
   "id": "00e2a621",
   "metadata": {},
   "outputs": [],
   "source": [
    "names = [\"Alan\", \"Adam\", \"Wes\", \"Will\", \"Albert\", \"Steven\"]"
   ]
  },
  {
   "cell_type": "code",
   "execution_count": 86,
   "id": "b40bbfe9",
   "metadata": {},
   "outputs": [
    {
     "name": "stdout",
     "output_type": "stream",
     "text": [
      "A ['Alan', 'Adam']\n",
      "W ['Wes', 'Will']\n",
      "A ['Albert']\n",
      "S ['Steven']\n"
     ]
    }
   ],
   "source": [
    "for letter, names in itertools.groupby(names, first_letter):\n",
    "    print(letter, list(names)) # names is a generator"
   ]
  },
  {
   "cell_type": "code",
   "execution_count": null,
   "id": "4f13d345",
   "metadata": {},
   "outputs": [],
   "source": [
    "################################################################"
   ]
  },
  {
   "cell_type": "code",
   "execution_count": 87,
   "id": "690307db",
   "metadata": {},
   "outputs": [],
   "source": [
    "# Errors and Exception Handling"
   ]
  },
  {
   "cell_type": "code",
   "execution_count": 88,
   "id": "e30df58f",
   "metadata": {},
   "outputs": [
    {
     "data": {
      "text/plain": [
       "1.2"
      ]
     },
     "execution_count": 88,
     "metadata": {},
     "output_type": "execute_result"
    }
   ],
   "source": [
    "float(\"1.2\")"
   ]
  },
  {
   "cell_type": "code",
   "execution_count": 89,
   "id": "41e08e72",
   "metadata": {},
   "outputs": [
    {
     "ename": "ValueError",
     "evalue": "could not convert string to float: 'something'",
     "output_type": "error",
     "traceback": [
      "\u001b[0;31m---------------------------------------------------------------------------\u001b[0m",
      "\u001b[0;31mValueError\u001b[0m                                Traceback (most recent call last)",
      "Cell \u001b[0;32mIn[89], line 1\u001b[0m\n\u001b[0;32m----> 1\u001b[0m \u001b[38;5;28mfloat\u001b[39m(\u001b[38;5;124m\"\u001b[39m\u001b[38;5;124msomething\u001b[39m\u001b[38;5;124m\"\u001b[39m)\n",
      "\u001b[0;31mValueError\u001b[0m: could not convert string to float: 'something'"
     ]
    }
   ],
   "source": [
    "float(\"something\") # ValueError"
   ]
  },
  {
   "cell_type": "code",
   "execution_count": 90,
   "id": "1867a7c0",
   "metadata": {},
   "outputs": [],
   "source": [
    "def attempt_float(x):\n",
    "    try:\n",
    "        return float(x)\n",
    "    except:\n",
    "        return x"
   ]
  },
  {
   "cell_type": "code",
   "execution_count": 91,
   "id": "95f5cc08",
   "metadata": {},
   "outputs": [
    {
     "data": {
      "text/plain": [
       "1.2"
      ]
     },
     "execution_count": 91,
     "metadata": {},
     "output_type": "execute_result"
    }
   ],
   "source": [
    "attempt_float(\"1.2\")"
   ]
  },
  {
   "cell_type": "code",
   "execution_count": 92,
   "id": "ae078012",
   "metadata": {},
   "outputs": [
    {
     "data": {
      "text/plain": [
       "'something'"
      ]
     },
     "execution_count": 92,
     "metadata": {},
     "output_type": "execute_result"
    }
   ],
   "source": [
    "attempt_float(\"something\")"
   ]
  },
  {
   "cell_type": "code",
   "execution_count": 93,
   "id": "5146ba30",
   "metadata": {},
   "outputs": [
    {
     "ename": "TypeError",
     "evalue": "float() argument must be a string or a real number, not 'tuple'",
     "output_type": "error",
     "traceback": [
      "\u001b[0;31m---------------------------------------------------------------------------\u001b[0m",
      "\u001b[0;31mTypeError\u001b[0m                                 Traceback (most recent call last)",
      "Cell \u001b[0;32mIn[93], line 1\u001b[0m\n\u001b[0;32m----> 1\u001b[0m \u001b[38;5;28mfloat\u001b[39m((\u001b[38;5;241m1\u001b[39m, \u001b[38;5;241m2\u001b[39m))\n",
      "\u001b[0;31mTypeError\u001b[0m: float() argument must be a string or a real number, not 'tuple'"
     ]
    }
   ],
   "source": [
    "float((1, 2))"
   ]
  },
  {
   "cell_type": "code",
   "execution_count": 94,
   "id": "34f60f26",
   "metadata": {},
   "outputs": [],
   "source": [
    "def attempt_float(x):\n",
    "    try:\n",
    "        return float(x)\n",
    "    except ValueError:\n",
    "        return x"
   ]
  },
  {
   "cell_type": "code",
   "execution_count": 95,
   "id": "7e4402ac",
   "metadata": {},
   "outputs": [],
   "source": [
    "def attempt_float(x):\n",
    "    try:\n",
    "        return float(x)\n",
    "    except (ValueError, TypeError):\n",
    "        return x"
   ]
  },
  {
   "cell_type": "markdown",
   "id": "d667e6b8",
   "metadata": {},
   "source": [
    "# Numpy Basics"
   ]
  },
  {
   "cell_type": "code",
   "execution_count": 96,
   "id": "08491fb2",
   "metadata": {},
   "outputs": [],
   "source": [
    "import numpy as np\n"
   ]
  },
  {
   "cell_type": "code",
   "execution_count": 98,
   "id": "10e9c174",
   "metadata": {},
   "outputs": [],
   "source": [
    "my_arr = np.arange(1000000)\n",
    "my_list = list(range(1000000))"
   ]
  },
  {
   "cell_type": "code",
   "execution_count": 99,
   "id": "5eda6019",
   "metadata": {},
   "outputs": [],
   "source": [
    "#now let's multiply each by sequence 2"
   ]
  },
  {
   "cell_type": "code",
   "execution_count": 102,
   "id": "4c6ae854",
   "metadata": {},
   "outputs": [
    {
     "name": "stdout",
     "output_type": "stream",
     "text": [
      "630 µs ± 12.4 µs per loop (mean ± std. dev. of 7 runs, 1,000 loops each)\n"
     ]
    }
   ],
   "source": [
    "%timeit my_arr2 = my_arr * 2"
   ]
  },
  {
   "cell_type": "code",
   "execution_count": 103,
   "id": "f0b8ea1c",
   "metadata": {},
   "outputs": [
    {
     "name": "stdout",
     "output_type": "stream",
     "text": [
      "2.99 ms ± 29.7 µs per loop (mean ± std. dev. of 7 runs, 100 loops each)\n"
     ]
    }
   ],
   "source": [
    "%timeit my_list2 = my_list * 2"
   ]
  },
  {
   "cell_type": "code",
   "execution_count": null,
   "id": "8eae8a07",
   "metadata": {},
   "outputs": [],
   "source": []
  }
 ],
 "metadata": {
  "kernelspec": {
   "display_name": "Python 3 (ipykernel)",
   "language": "python",
   "name": "python3"
  },
  "language_info": {
   "codemirror_mode": {
    "name": "ipython",
    "version": 3
   },
   "file_extension": ".py",
   "mimetype": "text/x-python",
   "name": "python",
   "nbconvert_exporter": "python",
   "pygments_lexer": "ipython3",
   "version": "3.11.5"
  }
 },
 "nbformat": 4,
 "nbformat_minor": 5
}
