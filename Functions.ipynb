{
 "cells": [
  {
   "cell_type": "code",
   "execution_count": 1,
   "id": "8a77e144",
   "metadata": {},
   "outputs": [],
   "source": [
    "def first_function():\n",
    "    print('we did it')"
   ]
  },
  {
   "cell_type": "code",
   "execution_count": 2,
   "id": "d7d9c3c3",
   "metadata": {},
   "outputs": [
    {
     "name": "stdout",
     "output_type": "stream",
     "text": [
      "we did it\n"
     ]
    }
   ],
   "source": [
    "first_function()"
   ]
  },
  {
   "cell_type": "code",
   "execution_count": 4,
   "id": "c7627bd8",
   "metadata": {},
   "outputs": [],
   "source": [
    "def number_squared(number):\n",
    "    print(number**2)\n",
    "    "
   ]
  },
  {
   "cell_type": "code",
   "execution_count": 6,
   "id": "6eeaa5e2",
   "metadata": {},
   "outputs": [
    {
     "name": "stdout",
     "output_type": "stream",
     "text": [
      "9\n"
     ]
    }
   ],
   "source": [
    "number_squared(3)"
   ]
  },
  {
   "cell_type": "code",
   "execution_count": 9,
   "id": "6f7526d5",
   "metadata": {},
   "outputs": [],
   "source": [
    "def number_custom_pow(number,power):\n",
    "    print(number**power)"
   ]
  },
  {
   "cell_type": "code",
   "execution_count": 10,
   "id": "88fa2996",
   "metadata": {},
   "outputs": [
    {
     "name": "stdout",
     "output_type": "stream",
     "text": [
      "16\n"
     ]
    }
   ],
   "source": [
    "number_custom_pow(2,4)"
   ]
  },
  {
   "cell_type": "code",
   "execution_count": 13,
   "id": "365826c1",
   "metadata": {},
   "outputs": [],
   "source": [
    "args_tuple = (5,6,1,2,8)\n",
    "def number_args(*number):\n",
    "    print(number[0]*number[1])"
   ]
  },
  {
   "cell_type": "code",
   "execution_count": 16,
   "id": "c11d9bbd",
   "metadata": {},
   "outputs": [
    {
     "ename": "IndexError",
     "evalue": "tuple index out of range",
     "output_type": "error",
     "traceback": [
      "\u001b[0;31m---------------------------------------------------------------------------\u001b[0m",
      "\u001b[0;31mIndexError\u001b[0m                                Traceback (most recent call last)",
      "Cell \u001b[0;32mIn[16], line 1\u001b[0m\n\u001b[0;32m----> 1\u001b[0m number_args(args_tuple)\n",
      "Cell \u001b[0;32mIn[13], line 3\u001b[0m, in \u001b[0;36mnumber_args\u001b[0;34m(*number)\u001b[0m\n\u001b[1;32m      2\u001b[0m \u001b[38;5;28;01mdef\u001b[39;00m \u001b[38;5;21mnumber_args\u001b[39m(\u001b[38;5;241m*\u001b[39mnumber):\n\u001b[0;32m----> 3\u001b[0m     \u001b[38;5;28mprint\u001b[39m(number[\u001b[38;5;241m0\u001b[39m]\u001b[38;5;241m*\u001b[39mnumber[\u001b[38;5;241m1\u001b[39m])\n",
      "\u001b[0;31mIndexError\u001b[0m: tuple index out of range"
     ]
    }
   ],
   "source": [
    "number_args(args_tuple) #it wil, fail on purpose , use * before tuple to use it as argument"
   ]
  },
  {
   "cell_type": "code",
   "execution_count": 17,
   "id": "71a7677e",
   "metadata": {},
   "outputs": [
    {
     "name": "stdout",
     "output_type": "stream",
     "text": [
      "30\n"
     ]
    }
   ],
   "source": [
    "number_args(*args_tuple)"
   ]
  },
  {
   "cell_type": "code",
   "execution_count": 21,
   "id": "1dc26c3b",
   "metadata": {},
   "outputs": [],
   "source": [
    "def number_custom_pow_keyword_argument(number,power):\n",
    "    print(number**power)"
   ]
  },
  {
   "cell_type": "code",
   "execution_count": 22,
   "id": "96b80998",
   "metadata": {},
   "outputs": [
    {
     "name": "stdout",
     "output_type": "stream",
     "text": [
      "8\n"
     ]
    }
   ],
   "source": [
    "number_custom_pow_keyword_argument(power = 3, number = 2)"
   ]
  },
  {
   "cell_type": "code",
   "execution_count": 39,
   "id": "4a01d197",
   "metadata": {},
   "outputs": [],
   "source": [
    "def number_kwarg(**number):  #keyword argument\n",
    "    print('my number is: '+ number['integer'] + ', Other is :' + number['integer2'])\n",
    "    "
   ]
  },
  {
   "cell_type": "code",
   "execution_count": 40,
   "id": "efb89b6b",
   "metadata": {},
   "outputs": [
    {
     "name": "stdout",
     "output_type": "stream",
     "text": [
      "my number is: 2309, Other is :349\n"
     ]
    }
   ],
   "source": [
    "number_kwarg(integer = '2309', integer2 ='349')"
   ]
  },
  {
   "cell_type": "code",
   "execution_count": null,
   "id": "e1b55ca9",
   "metadata": {},
   "outputs": [],
   "source": []
  }
 ],
 "metadata": {
  "kernelspec": {
   "display_name": "Python 3 (ipykernel)",
   "language": "python",
   "name": "python3"
  },
  "language_info": {
   "codemirror_mode": {
    "name": "ipython",
    "version": 3
   },
   "file_extension": ".py",
   "mimetype": "text/x-python",
   "name": "python",
   "nbconvert_exporter": "python",
   "pygments_lexer": "ipython3",
   "version": "3.11.5"
  }
 },
 "nbformat": 4,
 "nbformat_minor": 5
}
